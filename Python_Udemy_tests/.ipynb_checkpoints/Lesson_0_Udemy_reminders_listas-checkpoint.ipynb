{
 "cells": [
  {
   "cell_type": "markdown",
   "metadata": {},
   "source": [
    "## AHORA ES EL MOMENTO DE TRABAJAR CON LISTAS!! ##"
   ]
  },
  {
   "cell_type": "markdown",
   "metadata": {},
   "source": [
    "NOTA: **Una lista es una secuencia ordenada que puede tener una gran variedad de tipos de objetos**\n",
    "\n",
    "Se usa **[]**\n",
    "\n",
    "Como se ha vista antes, permite **indexado y particionado**; además de otro tipo de métodos."
   ]
  },
  {
   "cell_type": "code",
   "execution_count": 33,
   "metadata": {},
   "outputs": [],
   "source": [
    "mylist = [\"one\", \"two\", \"three\"]"
   ]
  },
  {
   "cell_type": "code",
   "execution_count": 34,
   "metadata": {},
   "outputs": [
    {
     "output_type": "execute_result",
     "data": {
      "text/plain": "['two', 'three']"
     },
     "metadata": {},
     "execution_count": 34
    }
   ],
   "source": [
    "mylist[1::]"
   ]
  },
  {
   "cell_type": "code",
   "execution_count": 35,
   "metadata": {},
   "outputs": [],
   "source": [
    "another_list = [\"four\", \"five\"]"
   ]
  },
  {
   "cell_type": "markdown",
   "metadata": {},
   "source": [
    "Se pueden **anidar** listas usando **+**. "
   ]
  },
  {
   "cell_type": "code",
   "execution_count": 36,
   "metadata": {},
   "outputs": [
    {
     "output_type": "execute_result",
     "data": {
      "text/plain": "['one', 'two', 'three', 'four', 'five']"
     },
     "metadata": {},
     "execution_count": 36
    }
   ],
   "source": [
    "mylist+another_list"
   ]
  },
  {
   "cell_type": "code",
   "execution_count": 37,
   "metadata": {},
   "outputs": [],
   "source": [
    "new_list = mylist+another_list"
   ]
  },
  {
   "cell_type": "markdown",
   "metadata": {},
   "source": [
    "Una vez se tiene una lista, se pueden **modificar** los elementos internos de esa lista, **usando la indexación**."
   ]
  },
  {
   "cell_type": "code",
   "execution_count": 38,
   "metadata": {},
   "outputs": [],
   "source": [
    "new_list[0]=\"ONE ALL IN CAPS\""
   ]
  },
  {
   "cell_type": "code",
   "execution_count": 39,
   "metadata": {},
   "outputs": [
    {
     "output_type": "execute_result",
     "data": {
      "text/plain": "['ONE ALL IN CAPS', 'two', 'three', 'four', 'five']"
     },
     "metadata": {},
     "execution_count": 39
    }
   ],
   "source": [
    "new_list"
   ]
  },
  {
   "cell_type": "markdown",
   "metadata": {},
   "source": [
    "NOTA: Las **listas** tienen **métodos asociados** a ellas. \n",
    "\n",
    "https://docs.python.org/3/tutorial/datastructures.html#more-on-lists\n",
    "\n",
    "\n",
    "Para poder acceder a estos métodos, siempre se puede acceder añadiendo un **\".\"** al final del nombre de la variable para la lista.\n",
    "\n",
    "Uno de estos métodos sería el **append**. Que permite añadir al final de la lista un **nuevo elemento**."
   ]
  },
  {
   "cell_type": "code",
   "execution_count": 40,
   "metadata": {},
   "outputs": [],
   "source": [
    "new_list.append(\"six\")"
   ]
  },
  {
   "cell_type": "code",
   "execution_count": 41,
   "metadata": {},
   "outputs": [
    {
     "output_type": "execute_result",
     "data": {
      "text/plain": "['ONE ALL IN CAPS', 'two', 'three', 'four', 'five', 'six']"
     },
     "metadata": {},
     "execution_count": 41
    }
   ],
   "source": [
    "new_list"
   ]
  },
  {
   "cell_type": "code",
   "execution_count": 42,
   "metadata": {},
   "outputs": [],
   "source": [
    "new_list.append(\"seven\")"
   ]
  },
  {
   "cell_type": "code",
   "execution_count": 43,
   "metadata": {},
   "outputs": [
    {
     "output_type": "execute_result",
     "data": {
      "text/plain": "['ONE ALL IN CAPS', 'two', 'three', 'four', 'five', 'six', 'seven']"
     },
     "metadata": {},
     "execution_count": 43
    }
   ],
   "source": [
    "new_list"
   ]
  },
  {
   "cell_type": "markdown",
   "metadata": {},
   "source": [
    "Si se quiere eliminar un elemento de la lista, se puede usar el método **.pop**"
   ]
  },
  {
   "cell_type": "code",
   "execution_count": 44,
   "metadata": {},
   "outputs": [
    {
     "output_type": "error",
     "ename": "TypeError",
     "evalue": "'str' object cannot be interpreted as an integer",
     "traceback": [
      "\u001b[0;31m---------------------------------------------------------------------------\u001b[0m",
      "\u001b[0;31mTypeError\u001b[0m                                 Traceback (most recent call last)",
      "\u001b[0;32m<ipython-input-44-61f6aec39fdd>\u001b[0m in \u001b[0;36m<module>\u001b[0;34m\u001b[0m\n\u001b[0;32m----> 1\u001b[0;31m \u001b[0mnew_list\u001b[0m\u001b[0;34m.\u001b[0m\u001b[0mpop\u001b[0m\u001b[0;34m(\u001b[0m\u001b[0;34m\"seven\"\u001b[0m\u001b[0;34m)\u001b[0m\u001b[0;34m\u001b[0m\u001b[0;34m\u001b[0m\u001b[0m\n\u001b[0m",
      "\u001b[0;31mTypeError\u001b[0m: 'str' object cannot be interpreted as an integer"
     ]
    }
   ],
   "source": [
    "new_list.pop(\"seven\")"
   ]
  },
  {
   "cell_type": "markdown",
   "metadata": {},
   "source": [
    "Como **.pop** se ha de indicar el número de índice dentro de la lista, **aparece un error al referirse a un elemento**, en cambio si no se indica ningún elemento, no da ningún error, ya que por defecto elimina el último elemento."
   ]
  },
  {
   "cell_type": "code",
   "execution_count": 45,
   "metadata": {},
   "outputs": [
    {
     "output_type": "execute_result",
     "data": {
      "text/plain": "'seven'"
     },
     "metadata": {},
     "execution_count": 45
    }
   ],
   "source": [
    "new_list.pop()"
   ]
  },
  {
   "cell_type": "code",
   "execution_count": 46,
   "metadata": {},
   "outputs": [
    {
     "output_type": "execute_result",
     "data": {
      "text/plain": "['ONE ALL IN CAPS', 'two', 'three', 'four', 'five', 'six']"
     },
     "metadata": {},
     "execution_count": 46
    }
   ],
   "source": [
    "new_list"
   ]
  },
  {
   "cell_type": "markdown",
   "metadata": {},
   "source": [
    "Al hacer el **.pop** salta el elemento, y si se quiere se puede incluir en una variable aparte. "
   ]
  },
  {
   "cell_type": "code",
   "execution_count": 47,
   "metadata": {},
   "outputs": [],
   "source": [
    "popped_item = new_list.pop()"
   ]
  },
  {
   "cell_type": "code",
   "execution_count": 48,
   "metadata": {},
   "outputs": [
    {
     "output_type": "execute_result",
     "data": {
      "text/plain": "'six'"
     },
     "metadata": {},
     "execution_count": 48
    }
   ],
   "source": [
    "popped_item"
   ]
  },
  {
   "cell_type": "code",
   "execution_count": 49,
   "metadata": {},
   "outputs": [
    {
     "output_type": "execute_result",
     "data": {
      "text/plain": "['ONE ALL IN CAPS', 'two', 'three', 'four', 'five']"
     },
     "metadata": {},
     "execution_count": 49
    }
   ],
   "source": [
    "new_list"
   ]
  },
  {
   "cell_type": "code",
   "execution_count": 50,
   "metadata": {},
   "outputs": [
    {
     "output_type": "execute_result",
     "data": {
      "text/plain": "'ONE ALL IN CAPS'"
     },
     "metadata": {},
     "execution_count": 50
    }
   ],
   "source": [
    "new_list.pop(0)"
   ]
  },
  {
   "cell_type": "code",
   "execution_count": 52,
   "metadata": {},
   "outputs": [
    {
     "output_type": "execute_result",
     "data": {
      "text/plain": "'five'"
     },
     "metadata": {},
     "execution_count": 52
    }
   ],
   "source": [
    "new_list.pop(3)"
   ]
  },
  {
   "cell_type": "code",
   "execution_count": 53,
   "metadata": {},
   "outputs": [],
   "source": [
    "new_list.append(\"five\")"
   ]
  },
  {
   "cell_type": "code",
   "execution_count": 54,
   "metadata": {},
   "outputs": [
    {
     "output_type": "execute_result",
     "data": {
      "text/plain": "['two', 'three', 'four', 'five']"
     },
     "metadata": {},
     "execution_count": 54
    }
   ],
   "source": [
    "new_list"
   ]
  },
  {
   "cell_type": "markdown",
   "metadata": {},
   "source": [
    "NOTA: Por tanto se puede sacar **(.pop)** elementos que se encuentren en la lista, de forma indexada."
   ]
  },
  {
   "cell_type": "code",
   "execution_count": 55,
   "metadata": {},
   "outputs": [],
   "source": [
    "new_list = [\"a\",\"e\", \"x\", \"b\", \"c\"]\n",
    "num_list = [4,1,8,3]"
   ]
  },
  {
   "cell_type": "markdown",
   "metadata": {},
   "source": [
    "Si se usa el método **.sort**, permite ordenar los elementos dentro de la lista"
   ]
  },
  {
   "cell_type": "code",
   "execution_count": 56,
   "metadata": {},
   "outputs": [],
   "source": [
    "new_list.sort()"
   ]
  },
  {
   "cell_type": "code",
   "execution_count": 57,
   "metadata": {},
   "outputs": [
    {
     "output_type": "execute_result",
     "data": {
      "text/plain": "['a', 'b', 'c', 'e', 'x']"
     },
     "metadata": {},
     "execution_count": 57
    }
   ],
   "source": [
    "new_list"
   ]
  },
  {
   "cell_type": "markdown",
   "metadata": {},
   "source": [
    "NOTA: Una cosa que hay que tener en cuenta, es que el método .sort(), no devuelve un resultado. Por tanto, cuando en el ejemplo usamos: **new_list.sort()**, no se ve que se devuelve una lista ordenada. **Sólo** cuando se llama de nuevo a la variable **new_list** se devuelve la lista ordenada. Esto se puede comprobar mirando el tipo de una variable  a la que indiquemos la ordenación de **new_list**"
   ]
  },
  {
   "cell_type": "code",
   "execution_count": 58,
   "metadata": {},
   "outputs": [],
   "source": [
    "sorted_list = new_list.sort()"
   ]
  },
  {
   "cell_type": "code",
   "execution_count": 59,
   "metadata": {},
   "outputs": [
    {
     "output_type": "execute_result",
     "data": {
      "text/plain": "NoneType"
     },
     "metadata": {},
     "execution_count": 59
    }
   ],
   "source": [
    "type(sorted_list)"
   ]
  },
  {
   "cell_type": "markdown",
   "metadata": {},
   "source": [
    "NOTA: Como se puede ver en la línea 59; el tipo de **sorted_list** no tiene ningún tipo. Otra cosa sería, ejecutar primero **new_list.sort()** y posteriormente, añadir ese valor a un variable como por ejemplo **my_sorted_list**; ese **my_sorted_list** sí que tendría un **tipo** asociado."
   ]
  },
  {
   "cell_type": "code",
   "execution_count": 60,
   "metadata": {},
   "outputs": [
    {
     "output_type": "execute_result",
     "data": {
      "text/plain": "['a', 'b', 'c', 'e', 'x']"
     },
     "metadata": {},
     "execution_count": 60
    }
   ],
   "source": [
    "new_list.sort()\n",
    "my_sorted_list = new_list\n",
    "my_sorted_list"
   ]
  },
  {
   "cell_type": "code",
   "execution_count": 61,
   "metadata": {},
   "outputs": [
    {
     "output_type": "execute_result",
     "data": {
      "text/plain": "list"
     },
     "metadata": {},
     "execution_count": 61
    }
   ],
   "source": [
    "type(my_sorted_list)"
   ]
  },
  {
   "cell_type": "markdown",
   "metadata": {},
   "source": [
    "NOTA: Si ahora pasamos a mira los métodos con las listas de números; nos permite hacer una ordenación tanto de menor a mayor **.sort()** como de mayor a menor **.reverse()**"
   ]
  },
  {
   "cell_type": "code",
   "execution_count": 62,
   "metadata": {},
   "outputs": [],
   "source": [
    "num_list.sort()"
   ]
  },
  {
   "cell_type": "code",
   "execution_count": 63,
   "metadata": {},
   "outputs": [
    {
     "output_type": "execute_result",
     "data": {
      "text/plain": "[1, 3, 4, 8]"
     },
     "metadata": {},
     "execution_count": 63
    }
   ],
   "source": [
    "num_list"
   ]
  },
  {
   "cell_type": "code",
   "execution_count": 64,
   "metadata": {},
   "outputs": [
    {
     "output_type": "execute_result",
     "data": {
      "text/plain": "[8, 4, 3, 1]"
     },
     "metadata": {},
     "execution_count": 64
    }
   ],
   "source": [
    "num_list.reverse()\n",
    "num_list"
   ]
  },
  {
   "cell_type": "markdown",
   "metadata": {},
   "source": [
    "NOTA: En el caso de las listas \"anidadas\", la forma en que se indica el índice es mediante, []. **Primero se indica el índice del elemento del [] más externo, y posterior el índice del [] más interno.**\n",
    "\n",
    "Por ejemplo:  en my_list = [1,1,[1,2]]; **el índice que tiene el 2, sería: my_list[2][1]; el 2 proviene de que los [2,1], se encuentran en el índice 2;** y el **índice [1] proviene del indice interno dentro de [1,2], que es el índice 1.**"
   ]
  },
  {
   "cell_type": "code",
   "execution_count": null,
   "metadata": {},
   "outputs": [],
   "source": []
  }
 ],
 "metadata": {
  "language_info": {
   "codemirror_mode": {
    "name": "ipython",
    "version": 3
   },
   "file_extension": ".py",
   "mimetype": "text/x-python",
   "name": "python",
   "nbconvert_exporter": "python",
   "pygments_lexer": "ipython3",
   "version": "3.7.7-final"
  },
  "orig_nbformat": 2,
  "kernelspec": {
   "name": "python3",
   "display_name": "Python 3"
  }
 },
 "nbformat": 4,
 "nbformat_minor": 2
}