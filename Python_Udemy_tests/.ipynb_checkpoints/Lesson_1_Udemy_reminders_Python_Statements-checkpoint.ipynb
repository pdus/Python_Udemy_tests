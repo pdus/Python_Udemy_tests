{
 "cells": [
  {
   "cell_type": "markdown",
   "metadata": {},
   "source": [
    "### PYTHON STATEMENTS -- IF, ELSE, ELIF"
   ]
  },
  {
   "cell_type": "markdown",
   "metadata": {},
   "source": [
    "**Estos son los operadores que te Permiten modificar y cambiar el flujo de la lógica el programa. **\n",
    "\n",
    "A veces sólo queremos que se ejecute un determinado tipo de **statement o sentencia** en **función de si se cumple una condición dada**. \n",
    "\n",
    "Por ejemplo:\n",
    "\n",
    "- **Si (If)** mi perro tiene hambre, habrá que darle de comer, pero sólo **si (if)** tiene hambre."
   ]
  },
  {
   "cell_type": "markdown",
   "metadata": {},
   "source": [
    "El **control de flujo** siempre se usa con **espacios en blanco** y esa **indentación es crítica en Python**.\n",
    "\n",
    "La estructura es la siguiente:\n",
    "\n",
    "    if some_condition:\n",
    "        #execute some_code\n",
    "        "
   ]
  },
  {
   "cell_type": "markdown",
   "metadata": {},
   "source": [
    "**NOTA: EN EL (if) SIEMPRE SE HA DE PONER ##LA CONDICIÓN## Y EN LA PARTE INFERIOR EL CÓDIGO A EJECUTAR**"
   ]
  },
  {
   "cell_type": "markdown",
   "metadata": {},
   "source": [
    "**En el caso de que se pona una condición alternativa al (IF)** se ha de usar el **(ELSE)** siguiendo la siguiente estrcutura:\n",
    "\n",
    "    if some_condition:\n",
    "        #execute some_code\n",
    "    else:\n",
    "        #execute some_code (normalmente otra cosa)"
   ]
  },
  {
   "cell_type": "markdown",
   "metadata": {},
   "source": [
    "Y esto se puede complicar un poco más, añadiendo un **ELIF** (else if), que permite añadir otra condición diferente a la del **IF**; y por último añadir un **ELSE**; de esta manera podemos ejecutar **3 tipos diferentes de condiciones** en el mismo código. \n",
    "\n",
    "La estructura es similar a la anterior:\n",
    "\n",
    "    if some_condition:\n",
    "        #execute some_code\n",
    "    elif another_condition:\n",
    "        #execute some_code\n",
    "    else:\n",
    "        #execute some_code"
   ]
  },
  {
   "cell_type": "markdown",
   "metadata": {},
   "source": [
    "Por tanto se puede ver que el control del flujo se puede **ir complicando** a lo **largo del programa**"
   ]
  },
  {
   "cell_type": "code",
   "execution_count": 7,
   "metadata": {},
   "outputs": [
    {
     "output_type": "stream",
     "name": "stdout",
     "text": "This seems to be TRUE!\n"
    }
   ],
   "source": [
    "if 3 > 2:\n",
    "    print(\"This seems to be TRUE!\")"
   ]
  },
  {
   "cell_type": "code",
   "execution_count": 8,
   "metadata": {},
   "outputs": [
    {
     "output_type": "stream",
     "name": "stdout",
     "text": "This seems to be TRUE!\n"
    }
   ],
   "source": [
    "#Si ahora ponemos una variable con un valor, por ejemplo: Hungry = True\n",
    "\n",
    "Hungry = True\n",
    "\n",
    "if Hungry:\n",
    "    print(\"This seems to be TRUE!\")"
   ]
  },
  {
   "cell_type": "code",
   "execution_count": 9,
   "metadata": {},
   "outputs": [],
   "source": [
    "#Si ahora se cambia el valor por False...\n",
    "\n",
    "Hungry = False\n",
    "\n",
    "if Hungry:\n",
    "    print(\"FEED ME!\")"
   ]
  },
  {
   "cell_type": "markdown",
   "metadata": {},
   "source": [
    "Como se puede ver en **la celda superior** como la condición en el **if** es **False** no se ejecuta el código que hay en la parte inferior. En cambio, si añadimos un **else**, entonces  **se puede ejecutar el código que hay en el (ELSE)**"
   ]
  },
  {
   "cell_type": "code",
   "execution_count": 11,
   "metadata": {},
   "outputs": [
    {
     "output_type": "stream",
     "name": "stdout",
     "text": "I'm not hungry!\n"
    }
   ],
   "source": [
    "Hungry = False\n",
    "\n",
    "if Hungry:\n",
    "    print(\"FEED ME!\")\n",
    "else:\n",
    "    print(\"I'm not hungry!\")"
   ]
  },
  {
   "cell_type": "markdown",
   "metadata": {},
   "source": [
    "En cambio si pasamos la variable **Hungry** de **False** a **True**, entonces se ejecuta la condición del ** if **"
   ]
  },
  {
   "cell_type": "code",
   "execution_count": 12,
   "metadata": {},
   "outputs": [
    {
     "output_type": "stream",
     "name": "stdout",
     "text": "FEED ME!\n"
    }
   ],
   "source": [
    "Hungry = True\n",
    "\n",
    "if Hungry:\n",
    "    print(\"FEED ME!\")\n",
    "else:\n",
    "    print(\"I'm not hungry!\")"
   ]
  },
  {
   "cell_type": "markdown",
   "metadata": {},
   "source": [
    "Esto se puede ver con otro ejemplo, pongamos que hablamos de **localizaciones**, y creamos una variable **loc** al que le asignamos **bank**, pero en un **if** ponemos que si **loc==\"Car's Shop\"** se ejecute un código. Veamos lo que pasa."
   ]
  },
  {
   "cell_type": "code",
   "execution_count": 13,
   "metadata": {},
   "outputs": [
    {
     "output_type": "stream",
     "name": "stdout",
     "text": "Sorry!. We don't know about cars\n"
    }
   ],
   "source": [
    "loc = \"Bank\"\n",
    "\n",
    "if loc == \"Car's Shop\":\n",
    "    print(\"I know a lot about cars!\")\n",
    "else:\n",
    "    print(\"Sorry!. We don't know about cars\")"
   ]
  },
  {
   "cell_type": "markdown",
   "metadata": {},
   "source": [
    "Como la condición del **if** loc==\"Car's Shop\" es **False\"**, porque hemos dicho que **loc = \"Bank\"**, entonces sólo se ejecuta **el \"else\" **.\n",
    "\n",
    "Y esto se puede ir complicando lo que se quiera, por ejemplo, se pueden crear ** más rutas, mediante ELIF**"
   ]
  },
  {
   "cell_type": "code",
   "execution_count": 15,
   "metadata": {},
   "outputs": [
    {
     "output_type": "stream",
     "name": "stdout",
     "text": "We know a lot about money!\n"
    }
   ],
   "source": [
    "loc = \"Bank\"\n",
    "\n",
    "if loc == \"Car's Shop\":\n",
    "    print(\"We know a lot about cars\")\n",
    "elif loc == \"Bank\":\n",
    "    print(\"We know a lot about money!\")\n",
    "elif loc == \"Store\":\n",
    "    print(\"Welcome to our Store!\")\n",
    "else:\n",
    "    print(\"Sorry, but we are not anykind of location\")"
   ]
  },
  {
   "cell_type": "markdown",
   "metadata": {},
   "source": [
    "La **gracia de este modelo** es que ahora sólo **cambiando el valor de la variable loc** se pueden obtener diferentes resultados."
   ]
  },
  {
   "cell_type": "code",
   "execution_count": 16,
   "metadata": {},
   "outputs": [
    {
     "output_type": "stream",
     "name": "stdout",
     "text": "We know a lot about cars\n"
    }
   ],
   "source": [
    "loc = \"Car's Shop\"\n",
    "\n",
    "if loc == \"Car's Shop\":\n",
    "    print(\"We know a lot about cars\")\n",
    "elif loc == \"Bank\":\n",
    "    print(\"We know a lot about money!\")\n",
    "elif loc == \"Store\":\n",
    "    print(\"Welcome to our Store!\")\n",
    "else:\n",
    "    print(\"Sorry, but we are not anykind of location\")"
   ]
  },
  {
   "cell_type": "code",
   "execution_count": 17,
   "metadata": {},
   "outputs": [
    {
     "output_type": "stream",
     "name": "stdout",
     "text": "Welcome to our Store!\n"
    }
   ],
   "source": [
    "loc = \"Store\"\n",
    "\n",
    "if loc == \"Car's Shop\":\n",
    "    print(\"We know a lot about cars\")\n",
    "elif loc == \"Bank\":\n",
    "    print(\"We know a lot about money!\")\n",
    "elif loc == \"Store\":\n",
    "    print(\"Welcome to our Store!\")\n",
    "else:\n",
    "    print(\"Sorry, but we are not anykind of location\")"
   ]
  },
  {
   "cell_type": "markdown",
   "metadata": {},
   "source": [
    "Y esto se ir complicando todo lo que se quiera...."
   ]
  },
  {
   "cell_type": "markdown",
   "metadata": {},
   "source": [
    "## PYTHON STATEMENTS -- LOOPS ##\n"
   ]
  },
  {
   "cell_type": "markdown",
   "metadata": {},
   "source": [
    "Los **loops** te permiten hacer **iteraciones**. Hay muchos elementos en Python que son **iterables** por ejemplo **los elementos de una lista**. El uso de los loops te permite obtener **iteraciones** con partes de código, y **repetirlas las veces que nos haga falta**.\n",
    "\n",
    "La **sintaxis** para la creación de los **loops** es la siguiente:  \n"
   ]
  },
  {
   "cell_type": "code",
   "execution_count": 2,
   "metadata": {},
   "outputs": [
    {
     "output_type": "stream",
     "name": "stdout",
     "text": "1\n2\n3\n"
    }
   ],
   "source": [
    "my_iterable = [1,2,3]\n",
    "\n",
    "for item_name in my_iterable:\n",
    "    print(item_name)"
   ]
  },
  {
   "cell_type": "markdown",
   "metadata": {},
   "source": [
    "Como se puede ver, cuando se **itera** una **lista** lo que se está haciendo es **pasando por cada uno de los elementos individuales**. La **elemento iterado** se identifica en una **variable** dentro del **for** (no fuera). Por tanto, **el recipiente** del elemento que se está iterando se **ha de indicar dentro del loop**. En el **ejemplo es el item_name**"
   ]
  },
  {
   "cell_type": "code",
   "execution_count": 3,
   "metadata": {},
   "outputs": [
    {
     "output_type": "stream",
     "name": "stdout",
     "text": "1\n2\n3\n4\n5\n6\n7\n8\n9\n10\n"
    }
   ],
   "source": [
    "#Siguiendo con el ejemplo anterior\n",
    "\n",
    "my_list = [1,2,3,4,5,6,7,8,9,10]\n",
    "\n",
    "for num_in_list in my_list:\n",
    "    print(num_in_list)"
   ]
  },
  {
   "cell_type": "markdown",
   "metadata": {},
   "source": [
    "Como se comentó anteriormente el **nombre** de **num_in_list** es un **nombre aleatorio**. Por ejemplo se puede cambiar por cualquier otro nombre, **siempre que haya coherencia**, es decir, que si **se quiere imprimir la iteración de my_list, el NOMBRE DE LA VARIABLE DENTRO DEL FOR ha de SER LA MISMA que dentro del print**"
   ]
  },
  {
   "cell_type": "code",
   "execution_count": 4,
   "metadata": {},
   "outputs": [
    {
     "output_type": "stream",
     "name": "stdout",
     "text": "1\n2\n3\n4\n5\n6\n7\n8\n9\n10\n"
    }
   ],
   "source": [
    "#Siguiendo con el ejemplo anterior\n",
    "\n",
    "my_list = [1,2,3,4,5,6,7,8,9,10]\n",
    "\n",
    "for jelly_belly in my_list:\n",
    "    print(jelly_belly)"
   ]
  },
  {
   "cell_type": "markdown",
   "metadata": {},
   "source": [
    "Otra cosa interesante, **es que lo que estamos haciendo es imprimir los valores de my_list UN DETERMINADO NÚMERO DE VECES, INDICADO POR EL NÚMERO DE ELEMENTOS DENTRO DE my_list**, pero por ejemplo: ** se puede imprimir cualquier VALOR, SOLO QUE EN EL EJEMPLO SE IMPRIMIRÁ 10 VECES**"
   ]
  },
  {
   "cell_type": "code",
   "execution_count": 5,
   "metadata": {},
   "outputs": [
    {
     "output_type": "stream",
     "name": "stdout",
     "text": "Hello!!\nHello!!\nHello!!\nHello!!\nHello!!\nHello!!\nHello!!\nHello!!\nHello!!\nHello!!\n"
    }
   ],
   "source": [
    "my_list = [1,2,3,4,5,6,7,8,9,10]\n",
    "\n",
    "for num_in_list in my_list:\n",
    "    print(\"Hello!!\")"
   ]
  },
  {
   "cell_type": "markdown",
   "metadata": {},
   "source": [
    "Y como no, **dentro de un loop se pueden introducir if, elif y else**"
   ]
  },
  {
   "cell_type": "code",
   "execution_count": 6,
   "metadata": {},
   "outputs": [
    {
     "output_type": "stream",
     "name": "stdout",
     "text": "2\n4\n6\n8\n10\n"
    }
   ],
   "source": [
    "for num_in_list in my_list:\n",
    "    #Comparar si son pares\n",
    "    if num_in_list % 2 == 0:\n",
    "        #Imprime esos números pares\n",
    "        print(num_in_list)"
   ]
  },
  {
   "cell_type": "markdown",
   "metadata": {},
   "source": [
    "Y si **además** jugamos con los **else** y el **formateo de texto**..."
   ]
  },
  {
   "cell_type": "code",
   "execution_count": 7,
   "metadata": {},
   "outputs": [
    {
     "output_type": "stream",
     "name": "stdout",
     "text": "Odd numbers: 1\n2\nOdd numbers: 3\n4\nOdd numbers: 5\n6\nOdd numbers: 7\n8\nOdd numbers: 9\n10\n"
    }
   ],
   "source": [
    "for num_in_list in my_list:\n",
    "    if num_in_list % 2 == 0:\n",
    "        print(num_in_list)\n",
    "    else:\n",
    "        print(f\"Odd numbers: {num_in_list}\")"
   ]
  },
  {
   "cell_type": "markdown",
   "metadata": {},
   "source": [
    "O también:"
   ]
  },
  {
   "cell_type": "code",
   "execution_count": 8,
   "metadata": {},
   "outputs": [
    {
     "output_type": "stream",
     "name": "stdout",
     "text": "Odd numbers: 1\nEven numbers: 2\nOdd numbers: 3\nEven numbers: 4\nOdd numbers: 5\nEven numbers: 6\nOdd numbers: 7\nEven numbers: 8\nOdd numbers: 9\nEven numbers: 10\n"
    }
   ],
   "source": [
    "for num_in_list in my_list:\n",
    "    if num_in_list % 2 == 0:\n",
    "        print(f\"Even numbers: {num_in_list}\")\n",
    "    else:\n",
    "        print(f\"Odd numbers: {num_in_list}\")"
   ]
  },
  {
   "cell_type": "code",
   "execution_count": null,
   "metadata": {},
   "outputs": [],
   "source": []
  }
 ],
 "metadata": {
  "language_info": {
   "codemirror_mode": {
    "name": "ipython",
    "version": 3
   },
   "file_extension": ".py",
   "mimetype": "text/x-python",
   "name": "python",
   "nbconvert_exporter": "python",
   "pygments_lexer": "ipython3",
   "version": "3.7.7-final"
  },
  "orig_nbformat": 2,
  "kernelspec": {
   "name": "python3",
   "display_name": "Python 3"
  }
 },
 "nbformat": 4,
 "nbformat_minor": 2
}