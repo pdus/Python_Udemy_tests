{
 "cells": [
  {
   "cell_type": "markdown",
   "metadata": {},
   "source": [
    "## I/O with Basic Files in Python ##"
   ]
  },
  {
   "cell_type": "markdown",
   "metadata": {},
   "source": [
    "Ahora pasamos a explicar como se trabaja con ficheros en Python.\n",
    "\n",
    "Para generar un archivo en Python (mejor dicho dentro de Jupyter) se usa: %%writefile\n",
    "\n",
    "luego se añade el nombre del fichero (myfile.txt).\n",
    "\n",
    "Y por último se puede añadir el texto que se quiere dentro del fichero."
   ]
  },
  {
   "cell_type": "code",
   "execution_count": 7,
   "metadata": {},
   "outputs": [
    {
     "output_type": "stream",
     "name": "stdout",
     "text": "Overwriting myfile.txt\n"
    }
   ],
   "source": [
    "%%writefile myfile.txt\n",
    "Hello world"
   ]
  },
  {
   "cell_type": "markdown",
   "metadata": {},
   "source": [
    "Para **abrir** el fichero creado se ha de usar **open(\"nombre del fichero\")**, y **se le asigna una variable**"
   ]
  },
  {
   "cell_type": "code",
   "execution_count": 8,
   "metadata": {},
   "outputs": [],
   "source": [
    "a_file = open(\"myfile.txt\")"
   ]
  },
  {
   "cell_type": "code",
   "execution_count": 9,
   "metadata": {},
   "outputs": [
    {
     "output_type": "execute_result",
     "data": {
      "text/plain": "<_io.TextIOWrapper name='myfile.txt' mode='r' encoding='UTF-8'>"
     },
     "metadata": {},
     "execution_count": 9
    }
   ],
   "source": [
    "a_file"
   ]
  },
  {
   "cell_type": "code",
   "execution_count": 10,
   "metadata": {},
   "outputs": [
    {
     "output_type": "execute_result",
     "data": {
      "text/plain": "'/home/pdus/Tests/Bootcamp python/TESTs_en_VSCode'"
     },
     "metadata": {},
     "execution_count": 10
    }
   ],
   "source": [
    "pwd"
   ]
  },
  {
   "cell_type": "markdown",
   "metadata": {},
   "source": [
    "Como se puede ver en el ejemplo anterior, se puede obtener la ruta de ejecución del Jupyter NoteBook mediante **pwd**"
   ]
  },
  {
   "cell_type": "markdown",
   "metadata": {},
   "source": [
    "Para leer el contenido del fichero creado, se puede usar el método **\".read()\"**. "
   ]
  },
  {
   "cell_type": "code",
   "execution_count": 11,
   "metadata": {},
   "outputs": [
    {
     "output_type": "execute_result",
     "data": {
      "text/plain": "'Hello world\\n'"
     },
     "metadata": {},
     "execution_count": 11
    }
   ],
   "source": [
    "a_file.read()"
   ]
  },
  {
   "cell_type": "markdown",
   "metadata": {},
   "source": [
    "Si volvemos a realizar la misma operación otra vez aparecerán sólo **\" \"**."
   ]
  },
  {
   "cell_type": "code",
   "execution_count": 12,
   "metadata": {},
   "outputs": [
    {
     "output_type": "execute_result",
     "data": {
      "text/plain": "''"
     },
     "metadata": {},
     "execution_count": 12
    }
   ],
   "source": [
    "a_file.read()"
   ]
  },
  {
   "cell_type": "markdown",
   "metadata": {},
   "source": [
    "Esto sucede porque cada vez que se realiza una lectura del fichero, el cursor interno también **va corriendo**; por ello se puede usar el método **.seek(0)**, lo que permite reiniciar el cursor al principio de todo el proceso."
   ]
  },
  {
   "cell_type": "code",
   "execution_count": 13,
   "metadata": {},
   "outputs": [
    {
     "output_type": "execute_result",
     "data": {
      "text/plain": "0"
     },
     "metadata": {},
     "execution_count": 13
    }
   ],
   "source": [
    "a_file.seek(0)"
   ]
  },
  {
   "cell_type": "code",
   "execution_count": 14,
   "metadata": {},
   "outputs": [
    {
     "output_type": "execute_result",
     "data": {
      "text/plain": "'Hello world\\n'"
     },
     "metadata": {},
     "execution_count": 14
    }
   ],
   "source": [
    "a_file.read()"
   ]
  },
  {
   "cell_type": "code",
   "execution_count": 15,
   "metadata": {},
   "outputs": [
    {
     "output_type": "stream",
     "name": "stdout",
     "text": "Overwriting myfile.txt\n"
    }
   ],
   "source": [
    "%%writefile myfile.txt\n",
    "Hello World, first line\\n\n",
    "Hello World again, second line\\n\n",
    "Hello World re-again, third line\\n"
   ]
  },
  {
   "cell_type": "markdown",
   "metadata": {},
   "source": [
    "En la celda anterior, lo que se ha hecho es reescribir el fichero **myfile.txt** con un nuevo texto. En principio, la variable **a_file** debería de funcionar correctamente"
   ]
  },
  {
   "cell_type": "code",
   "execution_count": 16,
   "metadata": {},
   "outputs": [
    {
     "output_type": "execute_result",
     "data": {
      "text/plain": "<_io.TextIOWrapper name='myfile.txt' mode='r' encoding='UTF-8'>"
     },
     "metadata": {},
     "execution_count": 16
    }
   ],
   "source": [
    "a_file"
   ]
  },
  {
   "cell_type": "code",
   "execution_count": 17,
   "metadata": {},
   "outputs": [
    {
     "output_type": "execute_result",
     "data": {
      "text/plain": "' first line\\\\n\\nHello World again, second line\\\\n\\nHello World re-again, third line\\\\n\\n'"
     },
     "metadata": {},
     "execution_count": 17
    }
   ],
   "source": [
    "a_file.read()"
   ]
  },
  {
   "cell_type": "markdown",
   "metadata": {},
   "source": [
    "**Sí, funciona**, pero ahora si queremos ver todas las líneas del texto creado, habrá que usar otro método, llamado **.readlines()**. Y mover el cursor al inicio, gracias a **.seek(0)**"
   ]
  },
  {
   "cell_type": "code",
   "execution_count": 18,
   "metadata": {},
   "outputs": [
    {
     "output_type": "execute_result",
     "data": {
      "text/plain": "0"
     },
     "metadata": {},
     "execution_count": 18
    }
   ],
   "source": [
    "a_file.seek(0)"
   ]
  },
  {
   "cell_type": "code",
   "execution_count": 19,
   "metadata": {},
   "outputs": [
    {
     "output_type": "execute_result",
     "data": {
      "text/plain": "['Hello World, first line\\\\n\\n',\n 'Hello World again, second line\\\\n\\n',\n 'Hello World re-again, third line\\\\n\\n']"
     },
     "metadata": {},
     "execution_count": 19
    }
   ],
   "source": [
    "a_file.readlines()"
   ]
  },
  {
   "cell_type": "markdown",
   "metadata": {},
   "source": [
    "## Ubicación de los ficheros ##"
   ]
  },
  {
   "cell_type": "code",
   "execution_count": 20,
   "metadata": {},
   "outputs": [
    {
     "output_type": "execute_result",
     "data": {
      "text/plain": "'/home/pdus/Tests/Bootcamp python/TESTs_en_VSCode'"
     },
     "metadata": {},
     "execution_count": 20
    }
   ],
   "source": [
    "pwd"
   ]
  },
  {
   "cell_type": "markdown",
   "metadata": {},
   "source": [
    "En Windows las barras de dirección siempre son **\\** en cambio en Linux y MacOS las barras son **/**. "
   ]
  },
  {
   "cell_type": "markdown",
   "metadata": {},
   "source": [
    "El fichero que estamos usando **\"myfile.txt\"**, se deberá cerrar llamando a la variable que hemos creado **\"a_file\"**, si no el IDE nos avisará de que hay un error. Para cerrar, se tiene que usar **.close()**, sobre la variable **\"a_file\"**"
   ]
  },
  {
   "cell_type": "code",
   "execution_count": 23,
   "metadata": {},
   "outputs": [],
   "source": [
    "a_file.close()"
   ]
  },
  {
   "cell_type": "markdown",
   "metadata": {},
   "source": [
    "Hay un método para poder cambiar el nombre del fichero y seguidamente asignarle una varible. Es el método **with open  XXXX as**, como por ejemplo:"
   ]
  },
  {
   "cell_type": "code",
   "execution_count": 24,
   "metadata": {},
   "outputs": [],
   "source": [
    "with open(\"myfile.txt\") as a_new_my_file:\n",
    "    contents = a_new_my_file.read()"
   ]
  },
  {
   "cell_type": "markdown",
   "metadata": {},
   "source": [
    "Lo que se ha hecho con este método, ha sido:\n",
    "- Abrir el fichero \"myfile.txt\", y asignarle una nueva variable. \n",
    "- Posteriormente, se crea otra variable **contents** para el método **a_new_my_file.read()**. \n",
    "\n",
    "Todo esto se ha hecho de una sola vez, ahora sólo llamando  a la variable **contents** se puede leer el contenido de **\"myfile.txt\"**"
   ]
  },
  {
   "cell_type": "code",
   "execution_count": 25,
   "metadata": {},
   "outputs": [
    {
     "output_type": "execute_result",
     "data": {
      "text/plain": "'Hello World, first line\\\\n\\nHello World again, second line\\\\n\\nHello World re-again, third line\\\\n\\n'"
     },
     "metadata": {},
     "execution_count": 25
    }
   ],
   "source": [
    "contents"
   ]
  },
  {
   "cell_type": "code",
   "execution_count": 26,
   "metadata": {},
   "outputs": [],
   "source": [
    "with open(\"myfile.txt\",mode=\"r\") as b_file:\n",
    "    contents = b_file.read()"
   ]
  },
  {
   "cell_type": "code",
   "execution_count": 27,
   "metadata": {},
   "outputs": [
    {
     "output_type": "execute_result",
     "data": {
      "text/plain": "'Hello World, first line\\\\n\\nHello World again, second line\\\\n\\nHello World re-again, third line\\\\n\\n'"
     },
     "metadata": {},
     "execution_count": 27
    }
   ],
   "source": [
    "contents"
   ]
  },
  {
   "cell_type": "markdown",
   "metadata": {},
   "source": [
    "Si ahora en vez de usar el **modo lectura** --> **\"mode=\"r\"**, y usamos el **modo de escritura**, siguiendo el mismo sistema anterior, a ver que sucede"
   ]
  },
  {
   "cell_type": "code",
   "execution_count": 28,
   "metadata": {},
   "outputs": [
    {
     "output_type": "error",
     "ename": "UnsupportedOperation",
     "evalue": "not readable",
     "traceback": [
      "\u001b[0;31m---------------------------------------------------------------------------\u001b[0m",
      "\u001b[0;31mUnsupportedOperation\u001b[0m                      Traceback (most recent call last)",
      "\u001b[0;32m<ipython-input-28-de970f1f4fdb>\u001b[0m in \u001b[0;36m<module>\u001b[0;34m\u001b[0m\n\u001b[1;32m      1\u001b[0m \u001b[0;32mwith\u001b[0m \u001b[0mopen\u001b[0m\u001b[0;34m(\u001b[0m\u001b[0;34m\"myfile.txt\"\u001b[0m\u001b[0;34m,\u001b[0m\u001b[0mmode\u001b[0m\u001b[0;34m=\u001b[0m\u001b[0;34m\"w\"\u001b[0m\u001b[0;34m)\u001b[0m \u001b[0;32mas\u001b[0m \u001b[0mb_file\u001b[0m\u001b[0;34m:\u001b[0m\u001b[0;34m\u001b[0m\u001b[0;34m\u001b[0m\u001b[0m\n\u001b[0;32m----> 2\u001b[0;31m     \u001b[0mcontents\u001b[0m \u001b[0;34m=\u001b[0m \u001b[0mb_file\u001b[0m\u001b[0;34m.\u001b[0m\u001b[0mread\u001b[0m\u001b[0;34m(\u001b[0m\u001b[0;34m)\u001b[0m\u001b[0;34m\u001b[0m\u001b[0;34m\u001b[0m\u001b[0m\n\u001b[0m",
      "\u001b[0;31mUnsupportedOperation\u001b[0m: not readable"
     ]
    }
   ],
   "source": [
    "with open(\"myfile.txt\",mode=\"w\") as b_file:\n",
    "    contents = b_file.read()"
   ]
  },
  {
   "cell_type": "markdown",
   "metadata": {},
   "source": [
    "Este error es debido a los tipos de método de escritura que hay. \n",
    "\n",
    "    -   mode=\"r\" **es de sólo lectura**\n",
    "    -   mode=\"w\" **es de sólo escritura, sobreescribirá\n",
    "        un fichero, o creará uno nuevo**\n",
    "    -   mode=\"a\" **sólo añade (añadirá elementos a un             fichero)\n",
    "    -   mode=\"r+\" **realiza la lectura y escritura**\n",
    "    -   mode=\"w+\" **escribe y lee (sobeescribe un fichero         existente o crea un fichero nuevo!)**\n"
   ]
  },
  {
   "cell_type": "markdown",
   "metadata": {},
   "source": [
    "Al usar el fichero de escritura, no se puede usar un método de lectura para ver el contenido,"
   ]
  },
  {
   "cell_type": "code",
   "execution_count": 29,
   "metadata": {},
   "outputs": [
    {
     "output_type": "stream",
     "name": "stdout",
     "text": "Writing my_new_file.txt\n"
    }
   ],
   "source": [
    "%%writefile my_new_file.txt\n",
    "ONE ON FIRST\n",
    "SECOND ON SECOND\n",
    "THREE ON THIRD"
   ]
  },
  {
   "cell_type": "code",
   "execution_count": 32,
   "metadata": {},
   "outputs": [
    {
     "output_type": "stream",
     "name": "stdout",
     "text": "ONE ON FIRST\nSECOND ON SECOND\nTHREE ON THIRD\n\n"
    }
   ],
   "source": [
    "with open(\"my_new_file.txt\",mode=\"r\") as f:\n",
    "    print(f.read())"
   ]
  },
  {
   "cell_type": "markdown",
   "metadata": {},
   "source": [
    "Si ahora se quiere **añadir** más texto al fichero, hay que **cambiar el modo** a **mode=\"a\"**."
   ]
  },
  {
   "cell_type": "code",
   "execution_count": 39,
   "metadata": {},
   "outputs": [],
   "source": [
    "with open(\"my_new_file.txt\",mode=\"a\") as f:\n",
    "    f.write(\"FOUR ON FOURTH\")"
   ]
  },
  {
   "cell_type": "code",
   "execution_count": 40,
   "metadata": {},
   "outputs": [
    {
     "output_type": "stream",
     "name": "stdout",
     "text": "ONE ON FIRST\nSECOND ON SECOND\nTHREE ON THIRD\nFOUR ON FOURTHFOUR ON FOURTHFOUR ON FOURTH\n"
    }
   ],
   "source": [
    "with open(\"my_new_file.txt\",mode=\"r\") as f:\n",
    "    print(f.read())"
   ]
  },
  {
   "cell_type": "markdown",
   "metadata": {},
   "source": [
    "Para evitar que aparezcan **\"FOUR ON FOURTHFOUR ON FOURTHFOUR ON FOURTH\"** todo junto, es usar **\\n** antes de añadir el texto."
   ]
  },
  {
   "cell_type": "code",
   "execution_count": 41,
   "metadata": {},
   "outputs": [],
   "source": [
    "with open(\"my_new_file.txt\",mode=\"a\") as f:\n",
    "    f.write(\"\\nFIVE ON FIFTH\")"
   ]
  },
  {
   "cell_type": "code",
   "execution_count": 42,
   "metadata": {},
   "outputs": [
    {
     "output_type": "stream",
     "name": "stdout",
     "text": "ONE ON FIRST\nSECOND ON SECOND\nTHREE ON THIRD\nFOUR ON FOURTHFOUR ON FOURTHFOUR ON FOURTH\nFIVE ON FIFTH\n"
    }
   ],
   "source": [
    "with open(\"my_new_file.txt\",mode=\"r\") as f:\n",
    "    print(f.read())"
   ]
  },
  {
   "cell_type": "markdown",
   "metadata": {},
   "source": [
    "## ENLACES DE INTERÉS##\n",
    "\n",
    "Basic Practice:\n",
    "\n",
    "http://codingbat.com/python\n",
    "\n",
    "More Mathematical (and Harder) Practice:\n",
    "\n",
    "https://projecteuler.net/archives\n",
    "\n",
    "List of Practice Problems:\n",
    "\n",
    "http://www.codeabbey.com/index/task_list\n",
    "\n",
    "A SubReddit Devoted to Daily Practice Problems:\n",
    "\n",
    "https://www.reddit.com/r/dailyprogrammer\n",
    "\n",
    "A very tricky website with very few hints and touch problems (Not for beginners but still interesting)\n",
    "\n",
    "http://www.pythonchallenge.com/\n"
   ]
  },
  {
   "cell_type": "code",
   "execution_count": null,
   "metadata": {},
   "outputs": [],
   "source": []
  }
 ],
 "metadata": {
  "language_info": {
   "codemirror_mode": {
    "name": "ipython",
    "version": 3
   },
   "file_extension": ".py",
   "mimetype": "text/x-python",
   "name": "python",
   "nbconvert_exporter": "python",
   "pygments_lexer": "ipython3",
   "version": "3.7.7-final"
  },
  "orig_nbformat": 2,
  "kernelspec": {
   "name": "python3",
   "display_name": "Python 3"
  }
 },
 "nbformat": 4,
 "nbformat_minor": 2
}