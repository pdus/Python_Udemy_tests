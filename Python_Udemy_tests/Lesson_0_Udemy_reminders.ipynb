{
 "cells": [
  {
   "cell_type": "markdown",
   "metadata": {},
   "source": [
    "** This it's just a series of reminders of how to work with Python**\n",
    "It's been a lot of time since last time, I've been using it.\n",
    "\n",
    "** All the notes from the Udemy are on the Google Drive, on Udemy-> Bootcamp Python. **\n",
    "\n",
    "** In this case, I just want to start using VSCode as editor to practice, using his extension for Anaconda.**\n",
    "\n",
    "### REMINDER --> FIRST EXECUTE Jupyter-Lab, TO EXECUTE THE KERNEL. IF NOT, IT WILL NOT WORK ###"
   ]
  },
  {
   "cell_type": "markdown",
   "metadata": {},
   "source": [
    "Just to try to understand something, some shortcuts to use on Jupyter Lab (or Note):\n",
    "\n",
    "- To **delete** --> **DD**\n",
    "- To **run a cell** --> **Shift + Enter**\n",
    "- To **use Markdown** --> **M**\n",
    "- To **use Python** --> **Y**\n",
    "- To **Copy a cell** --> **C**\n",
    "- To **Cut a cell** --> **X**\n",
    "- To **Insert a cell Above** --> **A**\n",
    "- To **Insert a cell Below** --> **B**\n",
    "\n",
    "### IMPORTANT --> TO RUN THIS COMMANDS IT'S NEEDED TO PRESS ALWAYS \"ESC\" BEFORE. ###"
   ]
  },
  {
   "cell_type": "markdown",
   "metadata": {},
   "source": [
    "### Tipos de variables ###\n",
    "\n",
    "- Integers --> int --> Números enteros: 3 300 200\n",
    "- Floating Point --> float --> Números con decimales 2.3  4.6 10.4\n",
    "- Strings (texto) --> str --> Ordered sequence of characters: \"hello\", \"Sammy\", \"2000\"\n",
    "- Listas --> list --> Ordered sequence of objects: [10,\"hello\",200.4] \n",
    "- Diccionario --> dict --> Unordered Key:Value pair : {\"mykey\":\"value\", \"name\":\"Frankie\"}\n",
    "- Tupla --> tup --> Ordered inmutable sequence of objects: (10, \"hello\", 200.4)\n",
    "- Sets --> set --> Unordered sequence of INMUTABLE objects: {\"a\", \"12312\", \"fasfd\"}\n",
    "- Boolean --> bool --> Logical values of **True** or **False**\n",
    "\n",
    "## NOTES ##\n",
    "\n",
    "Lists uses **[]** and Tuples uses **()**, **both are ordered** but the Tuples are **INMUTABLE** but not the lists. \n",
    "Dictionares and Sets, both uses **{}**, **both are unordered** but the Dictionaries always have a **paired key value**, unstead of the Sets that has a **unique collection of INMUTABLE objects**. "
   ]
  },
  {
   "cell_type": "markdown",
   "metadata": {},
   "source": [
    "## EXAMPLES WITH NUMBERS ##"
   ]
  },
  {
   "cell_type": "code",
   "execution_count": 1,
   "metadata": {},
   "outputs": [
    {
     "output_type": "execute_result",
     "data": {
      "text/plain": "3"
     },
     "metadata": {},
     "execution_count": 1
    }
   ],
   "source": [
    "2+1"
   ]
  },
  {
   "cell_type": "code",
   "execution_count": 2,
   "metadata": {},
   "outputs": [
    {
     "output_type": "execute_result",
     "data": {
      "text/plain": "4"
     },
     "metadata": {},
     "execution_count": 2
    }
   ],
   "source": [
    "2*2"
   ]
  },
  {
   "cell_type": "code",
   "execution_count": 3,
   "metadata": {},
   "outputs": [
    {
     "output_type": "execute_result",
     "data": {
      "text/plain": "1.5"
     },
     "metadata": {},
     "execution_count": 3
    }
   ],
   "source": [
    "3/2"
   ]
  },
  {
   "cell_type": "code",
   "execution_count": 4,
   "metadata": {},
   "outputs": [
    {
     "output_type": "execute_result",
     "data": {
      "text/plain": "2066066116"
     },
     "metadata": {},
     "execution_count": 4
    }
   ],
   "source": [
    "45454**2"
   ]
  },
  {
   "cell_type": "code",
   "execution_count": 5,
   "metadata": {},
   "outputs": [
    {
     "output_type": "execute_result",
     "data": {
      "text/plain": "3"
     },
     "metadata": {},
     "execution_count": 5
    }
   ],
   "source": [
    "7%4"
   ]
  },
  {
   "cell_type": "markdown",
   "metadata": {},
   "source": [
    "Gracias a (%) obtenemos el módulo, que es residuo de la división. Es una forma de ver si un número es par o no."
   ]
  },
  {
   "cell_type": "code",
   "execution_count": 6,
   "metadata": {},
   "outputs": [
    {
     "output_type": "execute_result",
     "data": {
      "text/plain": "0"
     },
     "metadata": {},
     "execution_count": 6
    }
   ],
   "source": [
    "20%2"
   ]
  },
  {
   "cell_type": "markdown",
   "metadata": {},
   "source": [
    "Usando (**) se obtienen las potencias. "
   ]
  },
  {
   "cell_type": "code",
   "execution_count": 7,
   "metadata": {},
   "outputs": [
    {
     "output_type": "execute_result",
     "data": {
      "text/plain": "8"
     },
     "metadata": {},
     "execution_count": 7
    }
   ],
   "source": [
    "2**3"
   ]
  },
  {
   "cell_type": "code",
   "execution_count": 8,
   "metadata": {},
   "outputs": [
    {
     "output_type": "execute_result",
     "data": {
      "text/plain": "27"
     },
     "metadata": {},
     "execution_count": 8
    }
   ],
   "source": [
    "3**3"
   ]
  },
  {
   "cell_type": "markdown",
   "metadata": {},
   "source": [
    "Vamos ahora a tomar el tema de las **variables**.\n",
    "\n",
    "Python usa **tipado dinámico**, lo que te permite **reasignar variables a diferentes tipos de variables**.\n",
    "\n",
    "**Por ejemplo:**\n",
    "\n",
    "my_dogs = 2\n",
    "\n",
    "my_dogs = [\"Sammy\", \"Frankie\"]\n",
    "\n",
    "En Python esto es **correcto**\n",
    "\n",
    "Los **Pros del tipado dinámico** son:\n",
    "\n",
    "- Es fácil de trabajar\n",
    "\n",
    "Las **Cons** son:\n",
    "- Puede crear bugs con problemas de tipado. Hay que estar muy atento al **type()**\n"
   ]
  },
  {
   "cell_type": "code",
   "execution_count": 9,
   "metadata": {},
   "outputs": [],
   "source": [
    "a = 5"
   ]
  },
  {
   "cell_type": "code",
   "execution_count": 10,
   "metadata": {},
   "outputs": [
    {
     "output_type": "execute_result",
     "data": {
      "text/plain": "10"
     },
     "metadata": {},
     "execution_count": 10
    }
   ],
   "source": [
    "a + a"
   ]
  },
  {
   "cell_type": "code",
   "execution_count": 11,
   "metadata": {},
   "outputs": [],
   "source": [
    "a = a + a"
   ]
  },
  {
   "cell_type": "code",
   "execution_count": 12,
   "metadata": {},
   "outputs": [
    {
     "output_type": "execute_result",
     "data": {
      "text/plain": "10"
     },
     "metadata": {},
     "execution_count": 12
    }
   ],
   "source": [
    "a"
   ]
  },
  {
   "cell_type": "code",
   "execution_count": 13,
   "metadata": {},
   "outputs": [],
   "source": [
    "a = 2*a"
   ]
  },
  {
   "cell_type": "code",
   "execution_count": 14,
   "metadata": {},
   "outputs": [
    {
     "output_type": "execute_result",
     "data": {
      "text/plain": "20"
     },
     "metadata": {},
     "execution_count": 14
    }
   ],
   "source": [
    "a"
   ]
  },
  {
   "cell_type": "code",
   "execution_count": 15,
   "metadata": {},
   "outputs": [
    {
     "output_type": "execute_result",
     "data": {
      "text/plain": "int"
     },
     "metadata": {},
     "execution_count": 15
    }
   ],
   "source": [
    "type(a)"
   ]
  },
  {
   "cell_type": "markdown",
   "metadata": {},
   "source": [
    "Ahora vamos con las **strings**:\n",
    "\n",
    "En Python se puede usar indistintamente \"\" o '', para poder indicar que se va a crear una cadena de caracteres.\n",
    "\n",
    "'hello'\n",
    "\n",
    "\"hello\"\n",
    "\"I don't do that\"\n",
    "\n",
    "## NOTA: ##\n",
    "\n",
    " **strings** (o cadenas de caracteres) son una **secuencia ordenada** por tanto se puede realizar tanto un **indexado** como un **slicing** (o recorte) para poder coger **\"subpartes\"** de esta  **secuencia de caracteres**.\n",
    "\n",
    " Para hacer el **indexado** se usa la notación **[]**. Muy similar a la listas. \n",
    "\n",
    " Una cosa **importante** es tener en cuenta el orden del indexado y del indexado inverso:\n",
    "\n",
    "    Character: h    e   l   l   o\n",
    "    Index:     0    1   2   3   4\n",
    "Reverse Index: 0    -4  -3  -2  -1\n",
    "\n",
    "\n",
    "Para hacer el \"particionado\" (slicing) de una cadena de caracteres se ordena de la siguiente manera:\n",
    "\n",
    "- ** [ start:stop:step ] **\n",
    "\n",
    "Donde: \n",
    "\n",
    "- **start** --> el índice numérico a partir del que se inicia el particionado.\n",
    "- **stop** --> el índice hasta el que se ha de llegar, PERO NO SE HA DE INCLUIR.\n",
    "- **step** --> el tamaño del **salto** que se ha de producir dentro del rango.\n",
    "\n",
    "\n",
    "\n",
    "\n"
   ]
  },
  {
   "cell_type": "markdown",
   "metadata": {},
   "source": [
    "Vamos a hacer algunos ejemplos:"
   ]
  },
  {
   "cell_type": "code",
   "execution_count": 16,
   "metadata": {},
   "outputs": [
    {
     "output_type": "execute_result",
     "data": {
      "text/plain": "'hello'"
     },
     "metadata": {},
     "execution_count": 16
    }
   ],
   "source": [
    "'hello'"
   ]
  },
  {
   "cell_type": "code",
   "execution_count": 17,
   "metadata": {},
   "outputs": [
    {
     "output_type": "error",
     "ename": "SyntaxError",
     "evalue": "invalid syntax (<ipython-input-17-0a7967bb9bc2>, line 1)",
     "traceback": [
      "\u001b[0;36m  File \u001b[0;32m\"<ipython-input-17-0a7967bb9bc2>\"\u001b[0;36m, line \u001b[0;32m1\u001b[0m\n\u001b[0;31m    a = 'this it's a string'\u001b[0m\n\u001b[0m                 ^\u001b[0m\n\u001b[0;31mSyntaxError\u001b[0m\u001b[0;31m:\u001b[0m invalid syntax\n"
     ]
    }
   ],
   "source": [
    "a = 'this it's a string'"
   ]
  },
  {
   "cell_type": "code",
   "execution_count": 18,
   "metadata": {},
   "outputs": [],
   "source": [
    "a = \"this it's a string\""
   ]
  },
  {
   "cell_type": "code",
   "execution_count": 19,
   "metadata": {},
   "outputs": [
    {
     "output_type": "execute_result",
     "data": {
      "text/plain": "str"
     },
     "metadata": {},
     "execution_count": 19
    }
   ],
   "source": [
    "type(a)"
   ]
  },
  {
   "cell_type": "markdown",
   "metadata": {},
   "source": [
    "Parece que siempre va mejor usar \"\", que no '', sobretodo si se quieren usar interjecciones."
   ]
  },
  {
   "cell_type": "code",
   "execution_count": 20,
   "metadata": {},
   "outputs": [
    {
     "output_type": "stream",
     "name": "stdout",
     "text": "hello\n"
    }
   ],
   "source": [
    "print(\"hello\")"
   ]
  },
  {
   "cell_type": "markdown",
   "metadata": {},
   "source": [
    "Si al final se quiere hacer el cambio de carro, al usar print, com en C se puede usar **\"\\n\"**"
   ]
  },
  {
   "cell_type": "code",
   "execution_count": 21,
   "metadata": {},
   "outputs": [
    {
     "output_type": "stream",
     "name": "stdout",
     "text": "hello \n world \n I'm \n here \n again\n"
    }
   ],
   "source": [
    "print(\"hello \\n world \\n I'm \\n here \\n again\")"
   ]
  },
  {
   "cell_type": "markdown",
   "metadata": {},
   "source": [
    "Con **print** se pueden usar además de **\\n**, **\\t** y **\\r**. \n",
    "\n",
    "https://www.pitt.edu/~naraehan/python3/mbb6.html\n",
    "\n",
    "- \"\\n\" --> es por nueva línea\n",
    "- \"\\t\" --> es por tab\n",
    "- \"\\r\" --> es por retorno de carro\n",
    "\n",
    "Eso sí, siempre se ha de pegar al texto siguiente, es decir: "
   ]
  },
  {
   "cell_type": "code",
   "execution_count": 22,
   "metadata": {},
   "outputs": [
    {
     "output_type": "stream",
     "name": "stdout",
     "text": "hello \n world\n"
    }
   ],
   "source": [
    "print(\"hello \\n world\")"
   ]
  },
  {
   "cell_type": "markdown",
   "metadata": {},
   "source": [
    "Está mal, se ha de usar de la siguiente forma:"
   ]
  },
  {
   "cell_type": "code",
   "execution_count": 23,
   "metadata": {},
   "outputs": [
    {
     "output_type": "stream",
     "name": "stdout",
     "text": "hello \nworld\n"
    }
   ],
   "source": [
    "print(\"hello \\nworld\")"
   ]
  },
  {
   "cell_type": "code",
   "execution_count": 24,
   "metadata": {},
   "outputs": [
    {
     "output_type": "stream",
     "name": "stdout",
     "text": "hello \tworld\n"
    }
   ],
   "source": [
    "print(\"hello \\tworld\")"
   ]
  },
  {
   "cell_type": "code",
   "execution_count": 25,
   "metadata": {},
   "outputs": [
    {
     "output_type": "stream",
     "name": "stdout",
     "text": "world\n"
    }
   ],
   "source": [
    "print(\"hello \\rworld\")"
   ]
  },
  {
   "cell_type": "markdown",
   "metadata": {},
   "source": [
    "También hay comandos para conocer la longitud de una cadena. Esta ordena és **len**"
   ]
  },
  {
   "cell_type": "code",
   "execution_count": 26,
   "metadata": {},
   "outputs": [
    {
     "output_type": "execute_result",
     "data": {
      "text/plain": "11"
     },
     "metadata": {},
     "execution_count": 26
    }
   ],
   "source": [
    "len(\"hello there\")"
   ]
  },
  {
   "cell_type": "code",
   "execution_count": 27,
   "metadata": {},
   "outputs": [
    {
     "output_type": "execute_result",
     "data": {
      "text/plain": "10"
     },
     "metadata": {},
     "execution_count": 27
    }
   ],
   "source": [
    "len(\"hellothere\")"
   ]
  },
  {
   "cell_type": "markdown",
   "metadata": {},
   "source": [
    "### Ejemplos de Indexación ###"
   ]
  },
  {
   "cell_type": "code",
   "execution_count": 28,
   "metadata": {},
   "outputs": [],
   "source": [
    "mystring=\"hello world\""
   ]
  },
  {
   "cell_type": "code",
   "execution_count": 29,
   "metadata": {},
   "outputs": [
    {
     "output_type": "execute_result",
     "data": {
      "text/plain": "'l'"
     },
     "metadata": {},
     "execution_count": 29
    }
   ],
   "source": [
    "mystring[9]"
   ]
  },
  {
   "cell_type": "code",
   "execution_count": 30,
   "metadata": {},
   "outputs": [
    {
     "output_type": "execute_result",
     "data": {
      "text/plain": "'e'"
     },
     "metadata": {},
     "execution_count": 30
    }
   ],
   "source": [
    "mystring[1]"
   ]
  },
  {
   "cell_type": "code",
   "execution_count": 31,
   "metadata": {},
   "outputs": [
    {
     "output_type": "execute_result",
     "data": {
      "text/plain": "'h'"
     },
     "metadata": {},
     "execution_count": 31
    }
   ],
   "source": [
    "mystring[0]"
   ]
  },
  {
   "cell_type": "markdown",
   "metadata": {},
   "source": [
    "De la misma forma que se puede acceder a la indexación con positivos, tambiéns se puede realizar la misma operación con números negativos, lo que se llama **indexación inversa**"
   ]
  },
  {
   "cell_type": "code",
   "execution_count": 32,
   "metadata": {},
   "outputs": [],
   "source": [
    "mystring2=\"hello\""
   ]
  },
  {
   "cell_type": "code",
   "execution_count": 33,
   "metadata": {},
   "outputs": [
    {
     "output_type": "execute_result",
     "data": {
      "text/plain": "'e'"
     },
     "metadata": {},
     "execution_count": 33
    }
   ],
   "source": [
    "mystring2[1]"
   ]
  },
  {
   "cell_type": "code",
   "execution_count": 34,
   "metadata": {},
   "outputs": [
    {
     "output_type": "execute_result",
     "data": {
      "text/plain": "'o'"
     },
     "metadata": {},
     "execution_count": 34
    }
   ],
   "source": [
    "mystring2[-1]"
   ]
  },
  {
   "cell_type": "code",
   "execution_count": 35,
   "metadata": {},
   "outputs": [
    {
     "output_type": "execute_result",
     "data": {
      "text/plain": "5"
     },
     "metadata": {},
     "execution_count": 35
    }
   ],
   "source": [
    "len(mystring2)"
   ]
  },
  {
   "cell_type": "markdown",
   "metadata": {},
   "source": []
  },
  {
   "cell_type": "code",
   "execution_count": 36,
   "metadata": {},
   "outputs": [
    {
     "output_type": "execute_result",
     "data": {
      "text/plain": "'o'"
     },
     "metadata": {},
     "execution_count": 36
    }
   ],
   "source": [
    "mystring2[4]"
   ]
  },
  {
   "cell_type": "code",
   "execution_count": 37,
   "metadata": {},
   "outputs": [
    {
     "output_type": "execute_result",
     "data": {
      "text/plain": "'o'"
     },
     "metadata": {},
     "execution_count": 37
    }
   ],
   "source": [
    "mystring2[-1]"
   ]
  },
  {
   "cell_type": "code",
   "execution_count": 38,
   "metadata": {},
   "outputs": [
    {
     "output_type": "execute_result",
     "data": {
      "text/plain": "'e'"
     },
     "metadata": {},
     "execution_count": 38
    }
   ],
   "source": [
    "mystring2[1]"
   ]
  },
  {
   "cell_type": "code",
   "execution_count": 39,
   "metadata": {},
   "outputs": [
    {
     "output_type": "execute_result",
     "data": {
      "text/plain": "'e'"
     },
     "metadata": {},
     "execution_count": 39
    }
   ],
   "source": [
    "mystring2[-4]"
   ]
  },
  {
   "cell_type": "markdown",
   "metadata": {},
   "source": [
    "Tal y como se puede ver en los ejemplos, el orden de la indexación cambia si se hace de forma inversa(números negativos) a si se hace de forma normal. Por ejemplo, si lo que se quiere es coger el último caracter de una cadena, una opción es usar el (-1) en el indexado inverso."
   ]
  },
  {
   "cell_type": "code",
   "execution_count": 40,
   "metadata": {},
   "outputs": [
    {
     "output_type": "execute_result",
     "data": {
      "text/plain": "'hello'"
     },
     "metadata": {},
     "execution_count": 40
    }
   ],
   "source": [
    "mystring2"
   ]
  },
  {
   "cell_type": "code",
   "execution_count": 41,
   "metadata": {},
   "outputs": [
    {
     "output_type": "execute_result",
     "data": {
      "text/plain": "'o'"
     },
     "metadata": {},
     "execution_count": 41
    }
   ],
   "source": [
    "mystring2[-1]"
   ]
  },
  {
   "cell_type": "markdown",
   "metadata": {},
   "source": [
    "Si ahora se crea una nueva variable con los carácteres \"abcdefghijk\", se pasa a hacer pruebas de como se puede jugar con el indexado."
   ]
  },
  {
   "cell_type": "code",
   "execution_count": 42,
   "metadata": {},
   "outputs": [],
   "source": [
    "mystring3 = \"abcdefghijk\""
   ]
  },
  {
   "cell_type": "code",
   "execution_count": 43,
   "metadata": {},
   "outputs": [
    {
     "output_type": "execute_result",
     "data": {
      "text/plain": "'cdefghijk'"
     },
     "metadata": {},
     "execution_count": 43
    }
   ],
   "source": [
    "mystring3[2:]"
   ]
  },
  {
   "cell_type": "markdown",
   "metadata": {},
   "source": [
    "Con el ejemplo de arriba se coge sólo los carácteres a partir **del índice 2, es decir la c**"
   ]
  },
  {
   "cell_type": "code",
   "execution_count": 44,
   "metadata": {},
   "outputs": [
    {
     "output_type": "execute_result",
     "data": {
      "text/plain": "'abc'"
     },
     "metadata": {},
     "execution_count": 44
    }
   ],
   "source": [
    "mystring3[:3]"
   ]
  },
  {
   "cell_type": "markdown",
   "metadata": {},
   "source": [
    "\n",
    "Al poner el [:3], lo que le hemos dicho es que pare en el índice 3, pero que no lo incluya, así que cogemos sólo los índices: 012.\n",
    "\n",
    "Si lo que se quiere es coger sólo los carácteres \"efg\", se puede hacer de la siguiente manera. Siendo a ->0, b->1 c->2 d->3 e->4 f->5 g->6. La fórmula sería:\n"
   ]
  },
  {
   "cell_type": "code",
   "execution_count": 45,
   "metadata": {},
   "outputs": [
    {
     "output_type": "execute_result",
     "data": {
      "text/plain": "'efg'"
     },
     "metadata": {},
     "execution_count": 45
    }
   ],
   "source": [
    "mystring3[4:7]"
   ]
  },
  {
   "cell_type": "markdown",
   "metadata": {},
   "source": [
    "En el stop se pone el 7, porque no se incluye nunca el índice que se indica en **stop**. \n",
    "\n",
    "\n",
    "Volviendo al tema de los **steps**, hay varias cosillas."
   ]
  },
  {
   "cell_type": "code",
   "execution_count": 46,
   "metadata": {},
   "outputs": [
    {
     "output_type": "execute_result",
     "data": {
      "text/plain": "'abcdefghijk'"
     },
     "metadata": {},
     "execution_count": 46
    }
   ],
   "source": [
    "mystring3[::]"
   ]
  },
  {
   "cell_type": "code",
   "execution_count": 47,
   "metadata": {},
   "outputs": [
    {
     "output_type": "execute_result",
     "data": {
      "text/plain": "'abcdefghijk'"
     },
     "metadata": {},
     "execution_count": 47
    }
   ],
   "source": [
    "mystring3"
   ]
  },
  {
   "cell_type": "code",
   "execution_count": 48,
   "metadata": {},
   "outputs": [
    {
     "output_type": "execute_result",
     "data": {
      "text/plain": "'abcdefghijk'"
     },
     "metadata": {},
     "execution_count": 48
    }
   ],
   "source": [
    "mystring3[::1]"
   ]
  },
  {
   "cell_type": "code",
   "execution_count": 49,
   "metadata": {},
   "outputs": [
    {
     "output_type": "execute_result",
     "data": {
      "text/plain": "'acegik'"
     },
     "metadata": {},
     "execution_count": 49
    }
   ],
   "source": [
    "mystring3[::2]"
   ]
  },
  {
   "cell_type": "markdown",
   "metadata": {},
   "source": [
    "Como se puede ver en los ejemplos, poner [::], [::1]; o nada, es exactamente lo mismo, ya que en todos los casos lo que se está indicando es que se están dando pasos de 1 en 1.\n",
    "\n",
    "En el momento en que ese \"step\" pasa a ser un número > 1, entonces el índice va saltando de 2 en 2. \n",
    "\n",
    "También se puede acotar todo la extracción con todos los párametros, por ejemplo:"
   ]
  },
  {
   "cell_type": "code",
   "execution_count": 50,
   "metadata": {},
   "outputs": [
    {
     "output_type": "execute_result",
     "data": {
      "text/plain": "'bdf'"
     },
     "metadata": {},
     "execution_count": 50
    }
   ],
   "source": [
    "mystring3[1:6:2]"
   ]
  },
  {
   "cell_type": "code",
   "execution_count": 51,
   "metadata": {},
   "outputs": [
    {
     "output_type": "execute_result",
     "data": {
      "text/plain": "''"
     },
     "metadata": {},
     "execution_count": 51
    }
   ],
   "source": [
    "mystring3[1:6:-2]"
   ]
  },
  {
   "cell_type": "markdown",
   "metadata": {},
   "source": [
    "El ejemplo de arriba no puede funcionar porque le estamos indicando que haga unos pasos \"a la inversa\", pero lo hemos indicado que el inicio y el final son en positivo. Otra opción para que fucione sería:\n"
   ]
  },
  {
   "cell_type": "code",
   "execution_count": 52,
   "metadata": {},
   "outputs": [
    {
     "output_type": "execute_result",
     "data": {
      "text/plain": "'k'"
     },
     "metadata": {},
     "execution_count": 52
    }
   ],
   "source": [
    "mystring3[:-2:-2]"
   ]
  },
  {
   "cell_type": "markdown",
   "metadata": {},
   "source": [
    "Si lo que se quiere es que se haga un listado invertido, la opción más rápida es poner un [::-1] en los pasos. Así se hará un listado invertido de la cadena"
   ]
  },
  {
   "cell_type": "code",
   "execution_count": 53,
   "metadata": {},
   "outputs": [
    {
     "output_type": "execute_result",
     "data": {
      "text/plain": "'kjihgfedcba'"
     },
     "metadata": {},
     "execution_count": 53
    }
   ],
   "source": [
    "mystring3[::-1]"
   ]
  },
  {
   "cell_type": "code",
   "execution_count": 54,
   "metadata": {},
   "outputs": [
    {
     "output_type": "execute_result",
     "data": {
      "text/plain": "'r'"
     },
     "metadata": {},
     "execution_count": 54
    }
   ],
   "source": [
    "\"Hello World\"[8]"
   ]
  },
  {
   "cell_type": "code",
   "execution_count": 55,
   "metadata": {},
   "outputs": [
    {
     "output_type": "execute_result",
     "data": {
      "text/plain": "6"
     },
     "metadata": {},
     "execution_count": 55
    }
   ],
   "source": [
    "len(\"tinker\")"
   ]
  },
  {
   "cell_type": "code",
   "execution_count": 56,
   "metadata": {},
   "outputs": [
    {
     "output_type": "execute_result",
     "data": {
      "text/plain": "'ink'"
     },
     "metadata": {},
     "execution_count": 56
    }
   ],
   "source": [
    "\"tinker\"[1:4]"
   ]
  },
  {
   "cell_type": "markdown",
   "metadata": {},
   "source": [
    "## INMUTABILIDAD ##\n",
    "\n",
    "Ahora pasamos a comentar cosas sobre INMUTABILIDAD. \n",
    "\n",
    "La INMUTABILIDAD te permite evitar errores durante la asignación de valores a las variables. En el caso de las cadenas de caracteres, te permite evitar cambios dentro de la cadena de caracteres. Por ello se denomina INMUTABLE."
   ]
  },
  {
   "cell_type": "code",
   "execution_count": 57,
   "metadata": {},
   "outputs": [],
   "source": [
    "name = \"Sam\""
   ]
  },
  {
   "cell_type": "code",
   "execution_count": 58,
   "metadata": {},
   "outputs": [
    {
     "output_type": "error",
     "ename": "TypeError",
     "evalue": "'str' object does not support item assignment",
     "traceback": [
      "\u001b[0;31m---------------------------------------------------------------------------\u001b[0m",
      "\u001b[0;31mTypeError\u001b[0m                                 Traceback (most recent call last)",
      "\u001b[0;32m<ipython-input-58-27dae8d01db1>\u001b[0m in \u001b[0;36m<module>\u001b[0;34m\u001b[0m\n\u001b[0;32m----> 1\u001b[0;31m \u001b[0mname\u001b[0m\u001b[0;34m[\u001b[0m\u001b[0;36m0\u001b[0m\u001b[0;34m]\u001b[0m \u001b[0;34m=\u001b[0m \u001b[0;34m\"P\"\u001b[0m\u001b[0;34m\u001b[0m\u001b[0;34m\u001b[0m\u001b[0m\n\u001b[0m",
      "\u001b[0;31mTypeError\u001b[0m: 'str' object does not support item assignment"
     ]
    }
   ],
   "source": [
    "name[0] = \"P\""
   ]
  },
  {
   "cell_type": "markdown",
   "metadata": {},
   "source": [
    "Aparece este error, porque no se puede cambiar el caracter [0] de la variable **name** por un el caracter \"P\".\n",
    "\n",
    "Lo que sí se puede hacer es unir cadenas de caracteres con nombres de **variables diferentes**.\n"
   ]
  },
  {
   "cell_type": "code",
   "execution_count": 59,
   "metadata": {},
   "outputs": [
    {
     "output_type": "execute_result",
     "data": {
      "text/plain": "'am'"
     },
     "metadata": {},
     "execution_count": 59
    }
   ],
   "source": [
    "name[1::]"
   ]
  },
  {
   "cell_type": "code",
   "execution_count": 60,
   "metadata": {},
   "outputs": [],
   "source": [
    "last_name = name[1::]"
   ]
  },
  {
   "cell_type": "code",
   "execution_count": 61,
   "metadata": {},
   "outputs": [
    {
     "output_type": "execute_result",
     "data": {
      "text/plain": "'am'"
     },
     "metadata": {},
     "execution_count": 61
    }
   ],
   "source": [
    "last_name"
   ]
  },
  {
   "cell_type": "markdown",
   "metadata": {},
   "source": [
    "Ahora se puede unir el carácter **\"P\"** a la variable **last_name**"
   ]
  },
  {
   "cell_type": "code",
   "execution_count": 62,
   "metadata": {},
   "outputs": [
    {
     "output_type": "execute_result",
     "data": {
      "text/plain": "'Pam'"
     },
     "metadata": {},
     "execution_count": 62
    }
   ],
   "source": [
    "\"P\" + last_name"
   ]
  },
  {
   "cell_type": "markdown",
   "metadata": {},
   "source": [
    "Otra cosa que se puede hacer con las cadenas de caracteres es usar los operadores aritméticas para conseguir **repeticiones** además de poder unir caracteres. Por ejemplo:"
   ]
  },
  {
   "cell_type": "code",
   "execution_count": 63,
   "metadata": {},
   "outputs": [
    {
     "output_type": "execute_result",
     "data": {
      "text/plain": "'amamamamamamamamamam'"
     },
     "metadata": {},
     "execution_count": 63
    }
   ],
   "source": [
    "last_name * 10"
   ]
  },
  {
   "cell_type": "markdown",
   "metadata": {},
   "source": [
    "## NOTA ##\n",
    "\n",
    "Una forma sencilla para poder ver todos los atributos que se pueden obtener de una variable, es escribiendo un **.** después del nombre de la variable. De esta manera el editor nos permitirá ver todo el lista de atributos. "
   ]
  },
  {
   "cell_type": "code",
   "execution_count": 64,
   "metadata": {},
   "outputs": [],
   "source": [
    "x = \"Hello World\""
   ]
  },
  {
   "cell_type": "code",
   "execution_count": 65,
   "metadata": {},
   "outputs": [
    {
     "output_type": "execute_result",
     "data": {
      "text/plain": "str"
     },
     "metadata": {},
     "execution_count": 65
    }
   ],
   "source": [
    "type(x)"
   ]
  },
  {
   "cell_type": "code",
   "execution_count": 66,
   "metadata": {},
   "outputs": [
    {
     "output_type": "execute_result",
     "data": {
      "text/plain": "'Hello World'"
     },
     "metadata": {},
     "execution_count": 66
    }
   ],
   "source": [
    "x"
   ]
  },
  {
   "cell_type": "code",
   "execution_count": 83,
   "metadata": {},
   "outputs": [
    {
     "output_type": "error",
     "ename": "SyntaxError",
     "evalue": "invalid syntax (<ipython-input-83-f0b83cb7b69e>, line 1)",
     "traceback": [
      "\u001b[0;36m  File \u001b[0;32m\"<ipython-input-83-f0b83cb7b69e>\"\u001b[0;36m, line \u001b[0;32m1\u001b[0m\n\u001b[0;31m    x.\u001b[0m\n\u001b[0m       ^\u001b[0m\n\u001b[0;31mSyntaxError\u001b[0m\u001b[0;31m:\u001b[0m invalid syntax\n"
     ]
    }
   ],
   "source": []
  },
  {
   "cell_type": "markdown",
   "metadata": {},
   "source": [
    "ESTO NO FUNCIONA CON VSCODE....:/"
   ]
  },
  {
   "cell_type": "code",
   "execution_count": 67,
   "metadata": {},
   "outputs": [
    {
     "output_type": "execute_result",
     "data": {
      "text/plain": "'Hello World'"
     },
     "metadata": {},
     "execution_count": 67
    }
   ],
   "source": [
    "x"
   ]
  },
  {
   "cell_type": "code",
   "execution_count": 68,
   "metadata": {},
   "outputs": [
    {
     "output_type": "execute_result",
     "data": {
      "text/plain": "'HELLO WORLD'"
     },
     "metadata": {},
     "execution_count": 68
    }
   ],
   "source": [
    "x.upper()"
   ]
  },
  {
   "cell_type": "markdown",
   "metadata": {},
   "source": [
    "Pero los attributos sí que se encuentran incluidos en el Jupyter Server, así que \"SO FAR SO GOOD\".\n",
    "\n",
    "También se puede separar una cadena de caracteres en **palabras**"
   ]
  },
  {
   "cell_type": "code",
   "execution_count": 69,
   "metadata": {},
   "outputs": [
    {
     "output_type": "execute_result",
     "data": {
      "text/plain": "['Hello', 'World']"
     },
     "metadata": {},
     "execution_count": 69
    }
   ],
   "source": [
    "x.split()"
   ]
  },
  {
   "cell_type": "markdown",
   "metadata": {},
   "source": [
    "Si al atributo **.split** se añade (l), lo que pasará es que eliminará las \"l\"s"
   ]
  },
  {
   "cell_type": "code",
   "execution_count": 70,
   "metadata": {},
   "outputs": [
    {
     "output_type": "execute_result",
     "data": {
      "text/plain": "['He', '', 'o Wor', 'd']"
     },
     "metadata": {},
     "execution_count": 70
    }
   ],
   "source": [
    "x.split(\"l\")"
   ]
  },
  {
   "cell_type": "markdown",
   "metadata": {},
   "source": [
    "En verdad no es que las elimine, sino que es el límite que usa para inicar los **cortes**\n"
   ]
  },
  {
   "cell_type": "markdown",
   "metadata": {},
   "source": [
    "## String Formatting for Printing\n",
    "\n",
    "- ** String interpolation **\n",
    "\n",
    "Insertar una string nueva, durante la impresión de una variable predeterminada. "
   ]
  },
  {
   "cell_type": "code",
   "execution_count": 71,
   "metadata": {},
   "outputs": [
    {
     "output_type": "stream",
     "name": "stdout",
     "text": "Hello Jose\n"
    }
   ],
   "source": [
    "my_name = \"Jose\"\n",
    "print(\"Hello \" + my_name)"
   ]
  },
  {
   "cell_type": "markdown",
   "metadata": {},
   "source": [
    "También se puede hacer con:\n",
    "- .format() --> método.\n",
    "- f-strings (strings formateadas)\n",
    "\n",
    "La **fórmula para trabajar con .format()** es la siguiente:\n",
    "\n",
    "### \"String here {} then also {}\".format(\"something1, something2)"
   ]
  },
  {
   "cell_type": "code",
   "execution_count": 72,
   "metadata": {},
   "outputs": [
    {
     "output_type": "stream",
     "name": "stdout",
     "text": "This a string INSERTED\n"
    }
   ],
   "source": [
    "print(\"This a string {}\".format(\"INSERTED\"))"
   ]
  },
  {
   "cell_type": "code",
   "execution_count": 73,
   "metadata": {},
   "outputs": [
    {
     "output_type": "stream",
     "name": "stdout",
     "text": "The fox brown quick\n"
    }
   ],
   "source": [
    "print(\"The {} {} {}\".format(\"fox\",\"brown\",\"quick\"))"
   ]
  },
  {
   "cell_type": "markdown",
   "metadata": {},
   "source": [
    "Lo bueno de usar este método, es que dentro de los {} se pueden poner el valor de los índices de las cadenas **que hay detrás de .format**. Es decir, \"fox\" --> 0; \"brown\" -->1; \"quick\" -->2"
   ]
  },
  {
   "cell_type": "code",
   "execution_count": 74,
   "metadata": {},
   "outputs": [
    {
     "output_type": "stream",
     "name": "stdout",
     "text": "The quick brown fox\n"
    }
   ],
   "source": [
    "print(\"The {2} {1} {0}\".format(\"fox\",\"brown\",\"quick\"))"
   ]
  },
  {
   "cell_type": "code",
   "execution_count": 75,
   "metadata": {},
   "outputs": [
    {
     "output_type": "stream",
     "name": "stdout",
     "text": "The brown brown fox\n"
    }
   ],
   "source": [
    "print(\"The {1} {1} {0}\".format(\"fox\",\"brown\",\"quick\"))"
   ]
  },
  {
   "cell_type": "markdown",
   "metadata": {},
   "source": [
    "También se puede usar otra forma, i es indicar variables para cada string que vayamos a definir **dentro de la .format**"
   ]
  },
  {
   "cell_type": "code",
   "execution_count": 76,
   "metadata": {},
   "outputs": [
    {
     "output_type": "error",
     "ename": "IndexError",
     "evalue": "tuple index out of range",
     "traceback": [
      "\u001b[0;31m---------------------------------------------------------------------------\u001b[0m",
      "\u001b[0;31mIndexError\u001b[0m                                Traceback (most recent call last)",
      "\u001b[0;32m<ipython-input-76-80e33378f3e2>\u001b[0m in \u001b[0;36m<module>\u001b[0;34m\u001b[0m\n\u001b[0;32m----> 1\u001b[0;31m \u001b[0mprint\u001b[0m\u001b[0;34m(\u001b[0m\u001b[0;34m\"The {} {} {}\"\u001b[0m\u001b[0;34m.\u001b[0m\u001b[0mformat\u001b[0m\u001b[0;34m(\u001b[0m\u001b[0mf\u001b[0m\u001b[0;34m=\u001b[0m\u001b[0;34m\"fox\"\u001b[0m\u001b[0;34m,\u001b[0m \u001b[0mb\u001b[0m\u001b[0;34m=\u001b[0m\u001b[0;34m\"brown\"\u001b[0m\u001b[0;34m,\u001b[0m \u001b[0mq\u001b[0m\u001b[0;34m=\u001b[0m\u001b[0;34m\"quick\"\u001b[0m\u001b[0;34m)\u001b[0m\u001b[0;34m)\u001b[0m\u001b[0;34m\u001b[0m\u001b[0;34m\u001b[0m\u001b[0m\n\u001b[0m",
      "\u001b[0;31mIndexError\u001b[0m: tuple index out of range"
     ]
    }
   ],
   "source": [
    "print(\"The {} {} {}\".format(f=\"fox\", b=\"brown\", q=\"quick\"))"
   ]
  },
  {
   "cell_type": "markdown",
   "metadata": {},
   "source": [
    "Porque hay que indicar el nombre de la variable dentro de cada uno de los {}, que se han indicado."
   ]
  },
  {
   "cell_type": "code",
   "execution_count": 77,
   "metadata": {},
   "outputs": [
    {
     "output_type": "stream",
     "name": "stdout",
     "text": "The fox brown quick\n"
    }
   ],
   "source": [
    "print(\"The {f} {b} {q}\".format(f=\"fox\", b=\"brown\", q=\"quick\"))"
   ]
  },
  {
   "cell_type": "markdown",
   "metadata": {},
   "source": [
    "## Formato del número de punto flotante -> Float formatting\n",
    "\n",
    "**\"{value:width.precision f}\"**"
   ]
  },
  {
   "cell_type": "code",
   "execution_count": 78,
   "metadata": {},
   "outputs": [],
   "source": [
    "result = 100/777"
   ]
  },
  {
   "cell_type": "code",
   "execution_count": 79,
   "metadata": {},
   "outputs": [
    {
     "output_type": "execute_result",
     "data": {
      "text/plain": "0.1287001287001287"
     },
     "metadata": {},
     "execution_count": 79
    }
   ],
   "source": [
    "result"
   ]
  },
  {
   "cell_type": "code",
   "execution_count": 80,
   "metadata": {},
   "outputs": [
    {
     "output_type": "stream",
     "name": "stdout",
     "text": "The result was 0.1287001287001287\n"
    }
   ],
   "source": [
    "print(\"The result was {}\".format(result))"
   ]
  },
  {
   "cell_type": "code",
   "execution_count": 81,
   "metadata": {},
   "outputs": [
    {
     "output_type": "stream",
     "name": "stdout",
     "text": "The result was 0.1287001287001287\n"
    }
   ],
   "source": [
    "print(\"The result was {r}\".format(r=result))"
   ]
  },
  {
   "cell_type": "code",
   "execution_count": 82,
   "metadata": {},
   "outputs": [
    {
     "output_type": "stream",
     "name": "stdout",
     "text": "The result was 0.129\n"
    }
   ],
   "source": [
    "print(\"The result was {r:1.3f}\".format(r=result))"
   ]
  },
  {
   "cell_type": "markdown",
   "metadata": {},
   "source": [
    "Si comparamos la línea 82 y la línea 83, se puede que el resultado de la línea 82 tiene más decimales, y en cambio la línea 83 **tiene los decimales definidos**. Para ello se ha dicho que **:1.** indica que se quiere 1 número antes del punto, y el número de decimales **son descritas mediante 3f**, siendo **3f** el número de decimales (3)"
   ]
  },
  {
   "cell_type": "code",
   "execution_count": 83,
   "metadata": {},
   "outputs": [
    {
     "output_type": "stream",
     "name": "stdout",
     "text": "Thre result was 0.128700\n"
    }
   ],
   "source": [
    "print(\"Thre result was {r:1.6f}\".format(r=result))"
   ]
  },
  {
   "cell_type": "code",
   "execution_count": 84,
   "metadata": {},
   "outputs": [
    {
     "output_type": "stream",
     "name": "stdout",
     "text": "Thre result was      0.129\n"
    }
   ],
   "source": [
    "print(\"Thre result was {r:10.3f}\".format(r=result))"
   ]
  },
  {
   "cell_type": "markdown",
   "metadata": {},
   "source": [
    "Como se puede ver en el ejemplo superior, **10** indica el ancho o número de espacio a partir del cual se indica el resultado."
   ]
  },
  {
   "cell_type": "code",
   "execution_count": 85,
   "metadata": {},
   "outputs": [
    {
     "output_type": "stream",
     "name": "stdout",
     "text": "Thre result was                0.129\n"
    }
   ],
   "source": [
    "print(\"Thre result was {r:20.3f}\".format(r=result))"
   ]
  },
  {
   "cell_type": "markdown",
   "metadata": {},
   "source": [
    "Esto también se puede mirar desde otra perspectiva, en vez de tener que poner \".format\", se puede poner de otra forma, como **colocando la f delante del texto**. Es decir:"
   ]
  },
  {
   "cell_type": "code",
   "execution_count": 86,
   "metadata": {},
   "outputs": [
    {
     "output_type": "execute_result",
     "data": {
      "text/plain": "'Sam'"
     },
     "metadata": {},
     "execution_count": 86
    }
   ],
   "source": [
    "name"
   ]
  },
  {
   "cell_type": "code",
   "execution_count": 87,
   "metadata": {},
   "outputs": [
    {
     "output_type": "stream",
     "name": "stdout",
     "text": "Hola my name is Sam\n"
    }
   ],
   "source": [
    "print(f\"Hola my name is {name}\")"
   ]
  },
  {
   "cell_type": "markdown",
   "metadata": {},
   "source": [
    "Y por supuesto se puede añadir todas la variables que se quieran."
   ]
  },
  {
   "cell_type": "code",
   "execution_count": 88,
   "metadata": {},
   "outputs": [],
   "source": [
    "residence = \"Spain\"\n",
    "age = 40"
   ]
  },
  {
   "cell_type": "code",
   "execution_count": 89,
   "metadata": {},
   "outputs": [
    {
     "output_type": "stream",
     "name": "stdout",
     "text": "Hi, my name is Sam, I live in Spain and I'm 40 years old\n"
    }
   ],
   "source": [
    "print(f\"Hi, my name is {name}, I live in {residence} and I'm {age} years old\")"
   ]
  },
  {
   "cell_type": "markdown",
   "metadata": {},
   "source": [
    "### FORMATING WITH PLACEHOLDERS\n",
    "\n",
    "Además de para poder sacar el módulo **(%)** también te permite introducir cualquier string que se quiera.\n",
    "\n",
    "Funciona de la siguiente manera:\n",
    "\n",
    "** print(\"I'm going to inject %s here.\" %\"something\")**"
   ]
  },
  {
   "cell_type": "code",
   "execution_count": 90,
   "metadata": {},
   "outputs": [
    {
     "output_type": "stream",
     "name": "stdout",
     "text": "I'm going to inject some text here, and here text here.\n"
    }
   ],
   "source": [
    "print(\"I'm going to inject %s text here, and %s text here.\" %(\"some\",\"here\"))"
   ]
  },
  {
   "cell_type": "markdown",
   "metadata": {},
   "source": [
    "** NOTA: ESTO ES IDÉNTICO AL SISTEMA QUE SE USA EN C Y C++ **\n",
    "\n",
    "** Esto también funciona con variables**"
   ]
  },
  {
   "cell_type": "code",
   "execution_count": 91,
   "metadata": {},
   "outputs": [
    {
     "output_type": "stream",
     "name": "stdout",
     "text": "I'm going to injecti some text here, and more text here.\n"
    }
   ],
   "source": [
    "variable1, variable2 = \"some\", \"more\"\n",
    "print(\"I'm going to injecti %s text here, and %s text here.\"%(variable1,variable2))"
   ]
  },
  {
   "cell_type": "markdown",
   "metadata": {},
   "source": [
    "## Padding and Precision of Floating Point Numbers\n",
    "\n",
    "En el caso de usar un formato tipo **%5.2f** ; el número 5 indica el número de carácteres que tendría que tener la cadena; en caso de que no lo tenga, se usarán **espacios**, mientras que el valor de **.2f** ; indica que el número ha de tener 2 decimales."
   ]
  },
  {
   "cell_type": "code",
   "execution_count": 92,
   "metadata": {},
   "outputs": [
    {
     "output_type": "stream",
     "name": "stdout",
     "text": "Floating point numbers: 13.44\n"
    }
   ],
   "source": [
    "print(\"Floating point numbers: %5.2f\" %(13.44))"
   ]
  },
  {
   "cell_type": "code",
   "execution_count": 93,
   "metadata": {},
   "outputs": [
    {
     "output_type": "stream",
     "name": "stdout",
     "text": "Floating point numbers: 13.45\n"
    }
   ],
   "source": [
    "print(\"Floating point numbers: %5.2f\" %(13.445))"
   ]
  },
  {
   "cell_type": "code",
   "execution_count": 94,
   "metadata": {},
   "outputs": [
    {
     "output_type": "stream",
     "name": "stdout",
     "text": "Floating point number: 133\n"
    }
   ],
   "source": [
    "print(\"Floating point number: %1.0f\" %(133.45))"
   ]
  },
  {
   "cell_type": "code",
   "execution_count": 95,
   "metadata": {},
   "outputs": [
    {
     "output_type": "stream",
     "name": "stdout",
     "text": "Floating point number:      133.4\n"
    }
   ],
   "source": [
    "print(\"Floating point number: %10.1f\" %(133.45))"
   ]
  },
  {
   "cell_type": "markdown",
   "metadata": {},
   "source": [
    "**NOTA**: Como se puede ver en los ejemplos, si ponemos un número de \"grande\" delante del \".Xf\" como en el ejemplo **%10.1f**, como el número que ponemos en el \"placeholder\" sólo tiene 3 números, se generan espacios en blanco."
   ]
  },
  {
   "cell_type": "markdown",
   "metadata": {},
   "source": [
    "## Alinear y tabular con precisión, usando **.format()**"
   ]
  },
  {
   "cell_type": "markdown",
   "metadata": {},
   "source": [
    "Usando los corchetes {}, se pueden alinear los elementos que se pueden imprimir.m"
   ]
  },
  {
   "cell_type": "code",
   "execution_count": 97,
   "metadata": {},
   "outputs": [
    {
     "output_type": "stream",
     "name": "stdout",
     "text": "Fruit    | Quantity \nApples   |       3.0\nOranges  |       1.0\n"
    }
   ],
   "source": [
    "print(\"{0:8} | {1:9}\".format(\"Fruit\", \"Quantity\"))\n",
    "print(\"{0:8} | {1:9}\".format(\"Apples\", 3.))\n",
    "print(\"{0:8} | {1:9}\".format(\"Oranges\", 1.))"
   ]
  },
  {
   "cell_type": "markdown",
   "metadata": {},
   "source": [
    "Como se puede ver en el ejemplo, usando los corchetes, se puede generar las **coordenadas** que permiten formatear los strings y los números que se incluyen dentro de **.format()**"
   ]
  },
  {
   "cell_type": "markdown",
   "metadata": {},
   "source": [
    "\n",
    "Normalmente .format() siempre tiende alinear a la derecha. Por ello se puede usar: **<,^,>** para seleccionar si se quiere alienar a la **izquierda, centro o derecha**"
   ]
  },
  {
   "cell_type": "code",
   "execution_count": 100,
   "metadata": {},
   "outputs": [
    {
     "output_type": "stream",
     "name": "stdout",
     "text": "Left     |  Center  |    Right\n11       |    22    |       33\n"
    }
   ],
   "source": [
    "print(\"{0:<8} | {1:^8} | {2:>8}\".format(\"Left\", \"Center\",\"Right\"))\n",
    "print(\"{0:<8} | {1:^8} | {2:>8}\".format(11,22,33))"
   ]
  },
  {
   "cell_type": "markdown",
   "metadata": {},
   "source": [
    "En python 3.6 y posteriores, también se puede formatear de forma sencilla, usando **f** envez de **.format**"
   ]
  },
  {
   "cell_type": "code",
   "execution_count": 102,
   "metadata": {},
   "outputs": [
    {
     "output_type": "stream",
     "name": "stdout",
     "text": "My 10 character, four decimal number is:    23.4500\nMy 10 character, four decimarl number is:   23.4500\n"
    }
   ],
   "source": [
    "num = 23.45\n",
    "print(\"My 10 character, four decimal number is: {0:10.4f}\".format(num))\n",
    "print(f\"My 10 character, four decimarl number is:{num:10.4f}\")"
   ]
  },
  {
   "cell_type": "markdown",
   "metadata": {},
   "source": [
    "## PARA TENER MÁS EJEMPLOS DE FORMATEO DE RESULTADOS EN PYTHON LA MEJOR WEB ES:\n",
    "\n",
    "https://pyformat.info/"
   ]
  },
  {
   "cell_type": "code",
   "execution_count": null,
   "metadata": {},
   "outputs": [],
   "source": []
  }
 ],
 "metadata": {
  "language_info": {
   "codemirror_mode": {
    "name": "ipython",
    "version": 3
   },
   "file_extension": ".py",
   "mimetype": "text/x-python",
   "name": "python",
   "nbconvert_exporter": "python",
   "pygments_lexer": "ipython3",
   "version": "3.7.7-final"
  },
  "orig_nbformat": 2,
  "kernelspec": {
   "name": "python3",
   "display_name": "Python 3"
  }
 },
 "nbformat": 4,
 "nbformat_minor": 2
}