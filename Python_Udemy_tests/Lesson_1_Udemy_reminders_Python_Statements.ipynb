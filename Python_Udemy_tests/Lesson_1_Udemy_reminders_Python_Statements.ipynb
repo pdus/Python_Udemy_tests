{
 "cells": [
  {
   "cell_type": "markdown",
   "metadata": {},
   "source": [
    "### PYTHON STATEMENTS -- IF, ELSE, ELIF"
   ]
  },
  {
   "cell_type": "markdown",
   "metadata": {},
   "source": [
    "**Estos son los operadores que te Permiten modificar y cambiar el flujo de la lógica el programa. **\n",
    "\n",
    "A veces sólo queremos que se ejecute un determinado tipo de **statement o sentencia** en **función de si se cumple una condición dada**. \n",
    "\n",
    "Por ejemplo:\n",
    "\n",
    "- **Si (If)** mi perro tiene hambre, habrá que darle de comer, pero sólo **si (if)** tiene hambre."
   ]
  },
  {
   "cell_type": "markdown",
   "metadata": {},
   "source": [
    "El **control de flujo** siempre se usa con **espacios en blanco** y esa **indentación es crítica en Python**.\n",
    "\n",
    "La estructura es la siguiente:\n",
    "\n",
    "    if some_condition:\n",
    "        #execute some_code\n",
    "        "
   ]
  },
  {
   "cell_type": "markdown",
   "metadata": {},
   "source": [
    "**NOTA: EN EL (if) SIEMPRE SE HA DE PONER ##LA CONDICIÓN## Y EN LA PARTE INFERIOR EL CÓDIGO A EJECUTAR**"
   ]
  },
  {
   "cell_type": "markdown",
   "metadata": {},
   "source": [
    "**En el caso de que se pona una condición alternativa al (IF)** se ha de usar el **(ELSE)** siguiendo la siguiente estrcutura:\n",
    "\n",
    "    if some_condition:\n",
    "        #execute some_code\n",
    "    else:\n",
    "        #execute some_code (normalmente otra cosa)"
   ]
  },
  {
   "cell_type": "markdown",
   "metadata": {},
   "source": [
    "Y esto se puede complicar un poco más, añadiendo un **ELIF** (else if), que permite añadir otra condición diferente a la del **IF**; y por último añadir un **ELSE**; de esta manera podemos ejecutar **3 tipos diferentes de condiciones** en el mismo código. \n",
    "\n",
    "La estructura es similar a la anterior:\n",
    "\n",
    "    if some_condition:\n",
    "        #execute some_code\n",
    "    elif another_condition:\n",
    "        #execute some_code\n",
    "    else:\n",
    "        #execute some_code"
   ]
  },
  {
   "cell_type": "markdown",
   "metadata": {},
   "source": [
    "Por tanto se puede ver que el control del flujo se puede **ir complicando** a lo **largo del programa**"
   ]
  },
  {
   "cell_type": "code",
   "execution_count": 1,
   "metadata": {
    "tags": []
   },
   "outputs": [
    {
     "output_type": "stream",
     "name": "stdout",
     "text": "This seems to be TRUE!\n"
    }
   ],
   "source": [
    "if 3 > 2:\n",
    "    print(\"This seems to be TRUE!\")"
   ]
  },
  {
   "cell_type": "code",
   "execution_count": 2,
   "metadata": {
    "tags": []
   },
   "outputs": [
    {
     "output_type": "stream",
     "name": "stdout",
     "text": "This seems to be TRUE!\n"
    }
   ],
   "source": [
    "#Si ahora ponemos una variable con un valor, por ejemplo: Hungry = True\n",
    "\n",
    "Hungry = True\n",
    "\n",
    "if Hungry:\n",
    "    print(\"This seems to be TRUE!\")"
   ]
  },
  {
   "cell_type": "code",
   "execution_count": 3,
   "metadata": {},
   "outputs": [],
   "source": [
    "#Si ahora se cambia el valor por False...\n",
    "\n",
    "Hungry = False\n",
    "\n",
    "if Hungry:\n",
    "    print(\"FEED ME!\")"
   ]
  },
  {
   "cell_type": "markdown",
   "metadata": {},
   "source": [
    "Como se puede ver en **la celda superior** como la condición en el **if** es **False** no se ejecuta el código que hay en la parte inferior. En cambio, si añadimos un **else**, entonces  **se puede ejecutar el código que hay en el (ELSE)**"
   ]
  },
  {
   "cell_type": "code",
   "execution_count": 4,
   "metadata": {
    "tags": []
   },
   "outputs": [
    {
     "output_type": "stream",
     "name": "stdout",
     "text": "I'm not hungry!\n"
    }
   ],
   "source": [
    "Hungry = False\n",
    "\n",
    "if Hungry:\n",
    "    print(\"FEED ME!\")\n",
    "else:\n",
    "    print(\"I'm not hungry!\")"
   ]
  },
  {
   "cell_type": "markdown",
   "metadata": {},
   "source": [
    "En cambio si pasamos la variable **Hungry** de **False** a **True**, entonces se ejecuta la condición del ** if **"
   ]
  },
  {
   "cell_type": "code",
   "execution_count": 5,
   "metadata": {
    "tags": []
   },
   "outputs": [
    {
     "output_type": "stream",
     "name": "stdout",
     "text": "FEED ME!\n"
    }
   ],
   "source": [
    "Hungry = True\n",
    "\n",
    "if Hungry:\n",
    "    print(\"FEED ME!\")\n",
    "else:\n",
    "    print(\"I'm not hungry!\")"
   ]
  },
  {
   "cell_type": "markdown",
   "metadata": {},
   "source": [
    "Esto se puede ver con otro ejemplo, pongamos que hablamos de **localizaciones**, y creamos una variable **loc** al que le asignamos **bank**, pero en un **if** ponemos que si **loc==\"Car's Shop\"** se ejecute un código. Veamos lo que pasa."
   ]
  },
  {
   "cell_type": "code",
   "execution_count": 6,
   "metadata": {
    "tags": []
   },
   "outputs": [
    {
     "output_type": "stream",
     "name": "stdout",
     "text": "Sorry!. We don't know about cars\n"
    }
   ],
   "source": [
    "loc = \"Bank\"\n",
    "\n",
    "if loc == \"Car's Shop\":\n",
    "    print(\"I know a lot about cars!\")\n",
    "else:\n",
    "    print(\"Sorry!. We don't know about cars\")"
   ]
  },
  {
   "cell_type": "markdown",
   "metadata": {},
   "source": [
    "Como la condición del **if** loc==\"Car's Shop\" es **False\"**, porque hemos dicho que **loc = \"Bank\"**, entonces sólo se ejecuta **el \"else\" **.\n",
    "\n",
    "Y esto se puede ir complicando lo que se quiera, por ejemplo, se pueden crear ** más rutas, mediante ELIF**"
   ]
  },
  {
   "cell_type": "code",
   "execution_count": 7,
   "metadata": {
    "tags": []
   },
   "outputs": [
    {
     "output_type": "stream",
     "name": "stdout",
     "text": "We know a lot about money!\n"
    }
   ],
   "source": [
    "loc = \"Bank\"\n",
    "\n",
    "if loc == \"Car's Shop\":\n",
    "    print(\"We know a lot about cars\")\n",
    "elif loc == \"Bank\":\n",
    "    print(\"We know a lot about money!\")\n",
    "elif loc == \"Store\":\n",
    "    print(\"Welcome to our Store!\")\n",
    "else:\n",
    "    print(\"Sorry, but we are not anykind of location\")"
   ]
  },
  {
   "cell_type": "markdown",
   "metadata": {},
   "source": [
    "La **gracia de este modelo** es que ahora sólo **cambiando el valor de la variable loc** se pueden obtener diferentes resultados."
   ]
  },
  {
   "cell_type": "code",
   "execution_count": 8,
   "metadata": {
    "tags": []
   },
   "outputs": [
    {
     "output_type": "stream",
     "name": "stdout",
     "text": "We know a lot about cars\n"
    }
   ],
   "source": [
    "loc = \"Car's Shop\"\n",
    "\n",
    "if loc == \"Car's Shop\":\n",
    "    print(\"We know a lot about cars\")\n",
    "elif loc == \"Bank\":\n",
    "    print(\"We know a lot about money!\")\n",
    "elif loc == \"Store\":\n",
    "    print(\"Welcome to our Store!\")\n",
    "else:\n",
    "    print(\"Sorry, but we are not anykind of location\")"
   ]
  },
  {
   "cell_type": "code",
   "execution_count": 9,
   "metadata": {
    "tags": []
   },
   "outputs": [
    {
     "output_type": "stream",
     "name": "stdout",
     "text": "Welcome to our Store!\n"
    }
   ],
   "source": [
    "loc = \"Store\"\n",
    "\n",
    "if loc == \"Car's Shop\":\n",
    "    print(\"We know a lot about cars\")\n",
    "elif loc == \"Bank\":\n",
    "    print(\"We know a lot about money!\")\n",
    "elif loc == \"Store\":\n",
    "    print(\"Welcome to our Store!\")\n",
    "else:\n",
    "    print(\"Sorry, but we are not anykind of location\")"
   ]
  },
  {
   "cell_type": "markdown",
   "metadata": {},
   "source": [
    "Y esto se ir complicando todo lo que se quiera...."
   ]
  },
  {
   "cell_type": "markdown",
   "metadata": {},
   "source": [
    "## PYTHON STATEMENTS -- LOOPS ##\n"
   ]
  },
  {
   "cell_type": "markdown",
   "metadata": {},
   "source": [
    "Los **loops** te permiten hacer **iteraciones**. Hay muchos elementos en Python que son **iterables** por ejemplo **los elementos de una lista**. El uso de los loops te permite obtener **iteraciones** con partes de código, y **repetirlas las veces que nos haga falta**.\n",
    "\n",
    "La **sintaxis** para la creación de los **loops** es la siguiente:  \n"
   ]
  },
  {
   "cell_type": "code",
   "execution_count": 10,
   "metadata": {
    "tags": []
   },
   "outputs": [
    {
     "output_type": "stream",
     "name": "stdout",
     "text": "1\n2\n3\n"
    }
   ],
   "source": [
    "my_iterable = [1,2,3]\n",
    "\n",
    "for item_name in my_iterable:\n",
    "    print(item_name)"
   ]
  },
  {
   "cell_type": "markdown",
   "metadata": {},
   "source": [
    "Como se puede ver, cuando se **itera** una **lista** lo que se está haciendo es **pasando por cada uno de los elementos individuales**. El **elemento iterado** se identifica en una **variable** dentro del **for** (no fuera). Por tanto, **el recipiente** del elemento que se está iterando se **ha de indicar dentro del loop**. En el **ejemplo es el item_name**"
   ]
  },
  {
   "cell_type": "code",
   "execution_count": 11,
   "metadata": {
    "tags": []
   },
   "outputs": [
    {
     "output_type": "stream",
     "name": "stdout",
     "text": "1\n2\n3\n4\n5\n6\n7\n8\n9\n10\n"
    }
   ],
   "source": [
    "#Siguiendo con el ejemplo anterior\n",
    "\n",
    "my_list = [1,2,3,4,5,6,7,8,9,10]\n",
    "\n",
    "for num_in_list in my_list:\n",
    "    print(num_in_list)"
   ]
  },
  {
   "cell_type": "markdown",
   "metadata": {},
   "source": [
    "Como se comentó anteriormente el **nombre** de **num_in_list** es un **nombre aleatorio**. Por ejemplo se puede cambiar por cualquier otro nombre, **siempre que haya coherencia**, es decir, que si **se quiere imprimir la iteración de my_list, el NOMBRE DE LA VARIABLE DENTRO DEL FOR ha de SER LA MISMA que dentro del print**"
   ]
  },
  {
   "cell_type": "code",
   "execution_count": 12,
   "metadata": {
    "tags": []
   },
   "outputs": [
    {
     "output_type": "stream",
     "name": "stdout",
     "text": "1\n2\n3\n4\n5\n6\n7\n8\n9\n10\n"
    }
   ],
   "source": [
    "#Siguiendo con el ejemplo anterior\n",
    "\n",
    "my_list = [1,2,3,4,5,6,7,8,9,10]\n",
    "\n",
    "for jelly_belly in my_list:\n",
    "    print(jelly_belly)"
   ]
  },
  {
   "cell_type": "markdown",
   "metadata": {},
   "source": [
    "Otra cosa interesante, **es que lo que estamos haciendo es imprimir los valores de my_list UN DETERMINADO NÚMERO DE VECES, INDICADO POR EL NÚMERO DE ELEMENTOS DENTRO DE my_list**, pero por ejemplo: ** se puede imprimir cualquier VALOR, SOLO QUE EN EL EJEMPLO SE IMPRIMIRÁ 10 VECES**"
   ]
  },
  {
   "cell_type": "code",
   "execution_count": 13,
   "metadata": {
    "tags": []
   },
   "outputs": [
    {
     "output_type": "stream",
     "name": "stdout",
     "text": "Hello!!\nHello!!\nHello!!\nHello!!\nHello!!\nHello!!\nHello!!\nHello!!\nHello!!\nHello!!\n"
    }
   ],
   "source": [
    "my_list = [1,2,3,4,5,6,7,8,9,10]\n",
    "\n",
    "for num_in_list in my_list:\n",
    "    print(\"Hello!!\")"
   ]
  },
  {
   "cell_type": "markdown",
   "metadata": {},
   "source": [
    "Y como no, **dentro de un loop se pueden introducir if, elif y else**"
   ]
  },
  {
   "cell_type": "code",
   "execution_count": 14,
   "metadata": {
    "tags": []
   },
   "outputs": [
    {
     "output_type": "stream",
     "name": "stdout",
     "text": "2\n4\n6\n8\n10\n"
    }
   ],
   "source": [
    "for num_in_list in my_list:\n",
    "    #Comparar si son pares\n",
    "    if num_in_list % 2 == 0:\n",
    "        #Imprime esos números pares\n",
    "        print(num_in_list)"
   ]
  },
  {
   "cell_type": "markdown",
   "metadata": {},
   "source": [
    "Y si **además** jugamos con los **else** y el **formateo de texto**..."
   ]
  },
  {
   "cell_type": "code",
   "execution_count": 69,
   "metadata": {
    "tags": []
   },
   "outputs": [
    {
     "output_type": "stream",
     "name": "stdout",
     "text": "Odd numbers: 1\n2\nOdd numbers: 3\n4\nOdd numbers: 5\n6\nOdd numbers: 7\n8\nOdd numbers: 9\n10\n"
    }
   ],
   "source": [
    "for num_in_list in my_list:\n",
    "    if num_in_list % 2 == 0:\n",
    "        print(num_in_list)\n",
    "    else:\n",
    "        print(f\"Odd numbers: {num_in_list}\")"
   ]
  },
  {
   "cell_type": "markdown",
   "metadata": {},
   "source": [
    "O también:"
   ]
  },
  {
   "cell_type": "code",
   "execution_count": 16,
   "metadata": {
    "tags": []
   },
   "outputs": [
    {
     "output_type": "stream",
     "name": "stdout",
     "text": "Odd numbers: 1\nEven numbers: 2\nOdd numbers: 3\nEven numbers: 4\nOdd numbers: 5\nEven numbers: 6\nOdd numbers: 7\nEven numbers: 8\nOdd numbers: 9\nEven numbers: 10\n"
    }
   ],
   "source": [
    "for num_in_list in my_list:\n",
    "    if num_in_list % 2 == 0:\n",
    "        print(f\"Even numbers: {num_in_list}\")\n",
    "    else:\n",
    "        print(f\"Odd numbers: {num_in_list}\")"
   ]
  },
  {
   "cell_type": "markdown",
   "metadata": {},
   "source": [
    "**También se pueden hacer operaciones** dentro **de un loop**. Por ejemplo sumar el **conjunto de valores** que hay **dentro del loop**."
   ]
  },
  {
   "cell_type": "code",
   "execution_count": 17,
   "metadata": {
    "tags": []
   },
   "outputs": [
    {
     "output_type": "stream",
     "name": "stdout",
     "text": "55\n"
    }
   ],
   "source": [
    "list_sum = 0 #De esta manera se inicializa la lista\n",
    "\n",
    "for num in my_list:\n",
    "    list_sum = list_sum + num # Aquí lo que se está haciendo es ir agregando (sumando) los valores sum\n",
    "    \n",
    "print(list_sum)"
   ]
  },
  {
   "cell_type": "markdown",
   "metadata": {},
   "source": [
    "Como se puede ver en el ejemplo anterior, lo que se ha hecho es ir agregando el valor de **sum** a la variable **list_sum**, y posteriormente, esta variable **list_sum** se vuelve a **iterar** con **num** hasta que ya no **elementos dentro de list_sum** para seguir sumando."
   ]
  },
  {
   "cell_type": "markdown",
   "metadata": {},
   "source": [
    "### Pero aquí hay una cosa interesante...¿Y si se mueve la indentación?###"
   ]
  },
  {
   "cell_type": "code",
   "execution_count": 18,
   "metadata": {
    "tags": []
   },
   "outputs": [
    {
     "output_type": "stream",
     "name": "stdout",
     "text": "1\n3\n6\n10\n15\n21\n28\n36\n45\n55\n"
    }
   ],
   "source": [
    "list_sum = 0\n",
    "\n",
    "for num in my_list:\n",
    "    list_sum = list_sum + num\n",
    "    \n",
    "    print(list_sum)"
   ]
  },
  {
   "cell_type": "markdown",
   "metadata": {},
   "source": [
    "### ¿Porqué? ###"
   ]
  },
  {
   "cell_type": "markdown",
   "metadata": {},
   "source": [
    "Al colocar el *print* **dentro** del **for**, lo que genera es que se van **escribiendo** *TODOS LOS PASOS* que se van generando **dentro del loop (for)**. En cambio, **si el print está \"fuera\" del loop** *sólo aparecerá el valor final resultante del loop*"
   ]
  },
  {
   "cell_type": "code",
   "execution_count": 19,
   "metadata": {
    "tags": []
   },
   "outputs": [
    {
     "output_type": "stream",
     "name": "stdout",
     "text": "H\ne\nl\nl\no\n \nW\no\nr\nl\nd\n"
    }
   ],
   "source": [
    "#Otro ejemplo, ahora con letras:\n",
    "\n",
    "my_string = \"Hello World\"\n",
    "\n",
    "for letter in my_string:\n",
    "    print(letter)"
   ]
  },
  {
   "cell_type": "code",
   "execution_count": 20,
   "metadata": {},
   "outputs": [
    {
     "output_type": "error",
     "ename": "IndentationError",
     "evalue": "expected an indented block (<ipython-input-20-c860f279bf7e>, line 5)",
     "traceback": [
      "\u001b[0;36m  File \u001b[0;32m\"<ipython-input-20-c860f279bf7e>\"\u001b[0;36m, line \u001b[0;32m5\u001b[0m\n\u001b[0;31m    print(letter)\u001b[0m\n\u001b[0m    ^\u001b[0m\n\u001b[0;31mIndentationError\u001b[0m\u001b[0;31m:\u001b[0m expected an indented block\n"
     ]
    }
   ],
   "source": [
    "my_string = \"Hello World\"\n",
    "\n",
    "for letter in my_string:\n",
    "\n",
    "print(letter)"
   ]
  },
  {
   "cell_type": "markdown",
   "metadata": {},
   "source": [
    "El **error** aparece porque **letter** no se puede **imprimir** como un conjunto separado de **elementos** *fuera del loop*"
   ]
  },
  {
   "cell_type": "code",
   "execution_count": 21,
   "metadata": {
    "tags": []
   },
   "outputs": [
    {
     "output_type": "stream",
     "name": "stdout",
     "text": "['H']\n['H', 'e']\n['H', 'e', 'l']\n['H', 'e', 'l', 'l']\n['H', 'e', 'l', 'l', 'o']\n['H', 'e', 'l', 'l', 'o', ' ']\n['H', 'e', 'l', 'l', 'o', ' ', 'W']\n['H', 'e', 'l', 'l', 'o', ' ', 'W', 'o']\n['H', 'e', 'l', 'l', 'o', ' ', 'W', 'o', 'r']\n['H', 'e', 'l', 'l', 'o', ' ', 'W', 'o', 'r', 'l']\n['H', 'e', 'l', 'l', 'o', ' ', 'W', 'o', 'r', 'l', 'd']\n"
    }
   ],
   "source": [
    "my_string = \"Hello World\"\n",
    "\n",
    "just_a_list = []\n",
    "\n",
    "for letter in my_string:\n",
    "    just_a_list.append(letter)\n",
    "    print(just_a_list)"
   ]
  },
  {
   "cell_type": "markdown",
   "metadata": {},
   "source": [
    "Vamos a mirar otro ejemplo **raro**."
   ]
  },
  {
   "cell_type": "code",
   "execution_count": 22,
   "metadata": {
    "tags": []
   },
   "outputs": [
    {
     "output_type": "stream",
     "name": "stdout",
     "text": "Cool!\nCool!\nCool!\nCool!\nCool!\nCool!\nCool!\nCool!\nCool!\nCool!\nCool!\n"
    }
   ],
   "source": [
    "for whatever in \"Hello World\":\n",
    "    print(\"Cool!\")"
   ]
  },
  {
   "cell_type": "markdown",
   "metadata": {},
   "source": [
    "En este **ejemplo** se puede ver como lo que se está haciendo **repetir Cool!** para **cada letra de Hello World!** de forma **iterativa** que para eso se usa **FOR**"
   ]
  },
  {
   "cell_type": "markdown",
   "metadata": {},
   "source": [
    "También se pueden usar con **tuplas**"
   ]
  },
  {
   "cell_type": "code",
   "execution_count": 23,
   "metadata": {
    "tags": []
   },
   "outputs": [
    {
     "output_type": "stream",
     "name": "stdout",
     "text": "1\n2\n3\n"
    }
   ],
   "source": [
    "tup = (1,2,3)\n",
    "\n",
    "for item in tup:\n",
    "    print(item)"
   ]
  },
  {
   "cell_type": "markdown",
   "metadata": {},
   "source": [
    "Si usamos **conjuntamente tuplas y listas**, en el ejemplo sería una **lista de tuplas**"
   ]
  },
  {
   "cell_type": "code",
   "execution_count": 24,
   "metadata": {},
   "outputs": [],
   "source": [
    "mylist = [(1,2),(3,4),(5,6),(7,8)]"
   ]
  },
  {
   "cell_type": "markdown",
   "metadata": {},
   "source": [
    "Si miramos la longitud de la lista..."
   ]
  },
  {
   "cell_type": "code",
   "execution_count": 25,
   "metadata": {},
   "outputs": [
    {
     "output_type": "execute_result",
     "data": {
      "text/plain": "4"
     },
     "metadata": {},
     "execution_count": 25
    }
   ],
   "source": [
    "len(mylist)"
   ]
  },
  {
   "cell_type": "markdown",
   "metadata": {},
   "source": [
    "Si ahora vamos a realizar una impresión de **mylist**, usando un **for**."
   ]
  },
  {
   "cell_type": "code",
   "execution_count": 26,
   "metadata": {
    "tags": []
   },
   "outputs": [
    {
     "output_type": "stream",
     "name": "stdout",
     "text": "(1, 2)\n(3, 4)\n(5, 6)\n(7, 8)\n"
    }
   ],
   "source": [
    "for item in mylist:\n",
    "    print(item)"
   ]
  },
  {
   "cell_type": "markdown",
   "metadata": {},
   "source": [
    "Como se puede ver tanto por **len** como en la impresión, las **tuplas** las pillas como elementos **individuales**. Esto es por una capacidad **de encapsulación** entre **listas y tuplas**. Si lo que se quiere es imprimir el objeto que se encuentra **dentro una tupla**, se puede usar **la estructura de for**"
   ]
  },
  {
   "cell_type": "code",
   "execution_count": 27,
   "metadata": {
    "tags": []
   },
   "outputs": [
    {
     "output_type": "stream",
     "name": "stdout",
     "text": "1\n2\n3\n4\n5\n6\n7\n8\n"
    }
   ],
   "source": [
    "for (a,b) in mylist: #Se crea el objeto (a,b) como si fuera una tupla, lo que se crea son 2 var.\n",
    "    print(a) #Se imprime a (y solo a)\n",
    "    print(b) #Se imprime b (y solo b)"
   ]
  },
  {
   "cell_type": "markdown",
   "metadata": {},
   "source": [
    "A este proceso se le llama **desempaquetado de tuplas**. También se puede usar el mismo código, pero **sin los paréntesis en a y b**"
   ]
  },
  {
   "cell_type": "code",
   "execution_count": 28,
   "metadata": {
    "tags": []
   },
   "outputs": [
    {
     "output_type": "stream",
     "name": "stdout",
     "text": "1\n2\n3\n4\n5\n6\n7\n8\n"
    }
   ],
   "source": [
    "for a,b in mylist:\n",
    "    print(a)\n",
    "    print(b)"
   ]
  },
  {
   "cell_type": "markdown",
   "metadata": {},
   "source": [
    "Otro **ejemplo**"
   ]
  },
  {
   "cell_type": "code",
   "execution_count": 29,
   "metadata": {},
   "outputs": [],
   "source": [
    "mylist = [(1,2,3),(5,6,7),(8,9,10)]"
   ]
  },
  {
   "cell_type": "code",
   "execution_count": 30,
   "metadata": {
    "tags": []
   },
   "outputs": [
    {
     "output_type": "stream",
     "name": "stdout",
     "text": "(1, 2, 3)\n(5, 6, 7)\n(8, 9, 10)\n"
    }
   ],
   "source": [
    "for item in mylist:\n",
    "    print(item)"
   ]
  },
  {
   "cell_type": "code",
   "execution_count": 31,
   "metadata": {
    "tags": []
   },
   "outputs": [
    {
     "output_type": "stream",
     "name": "stdout",
     "text": "1\n2\n3\n5\n6\n7\n8\n9\n10\n"
    }
   ],
   "source": [
    "for a,b,c in mylist:\n",
    "    print(a)\n",
    "    print(b)\n",
    "    print(c)"
   ]
  },
  {
   "cell_type": "markdown",
   "metadata": {},
   "source": [
    "También se permite trabajar los diversos elementos de las tuplas, por ejemplo se **pueden imprimir sólo los 2 segundos elementos dentro de una tupla**"
   ]
  },
  {
   "cell_type": "code",
   "execution_count": 32,
   "metadata": {
    "tags": []
   },
   "outputs": [
    {
     "output_type": "stream",
     "name": "stdout",
     "text": "2\n6\n9\n"
    }
   ],
   "source": [
    "for a,b,c in mylist:\n",
    "    print(b)"
   ]
  },
  {
   "cell_type": "markdown",
   "metadata": {},
   "source": [
    "**Ahora toca ver las cosas con diccionarios**"
   ]
  },
  {
   "cell_type": "code",
   "execution_count": 33,
   "metadata": {
    "tags": []
   },
   "outputs": [
    {
     "output_type": "stream",
     "name": "stdout",
     "text": "k1\nk2\nk3\n"
    }
   ],
   "source": [
    "d = {\"k1\":1, \"k2\":2, \"k3\":3}\n",
    "\n",
    "for item in d:\n",
    "    print(item)\n",
    "    "
   ]
  },
  {
   "cell_type": "markdown",
   "metadata": {},
   "source": [
    "Si **queremos ver los elementos de los diccionarios** hay que usar el método **.items**. Entonces se pueden ver los **componentes** del **diccionario**"
   ]
  },
  {
   "cell_type": "code",
   "execution_count": 34,
   "metadata": {
    "tags": []
   },
   "outputs": [
    {
     "output_type": "stream",
     "name": "stdout",
     "text": "('k1', 1)\n('k2', 2)\n('k3', 3)\n"
    }
   ],
   "source": [
    "for item in d.items():\n",
    "    print(item)"
   ]
  },
  {
   "cell_type": "markdown",
   "metadata": {},
   "source": [
    "Por tanto **se puede usar una técnica similar al DESEMPAQUETAMIENTO DE TUPLAS**"
   ]
  },
  {
   "cell_type": "code",
   "execution_count": 35,
   "metadata": {
    "tags": []
   },
   "outputs": [
    {
     "output_type": "stream",
     "name": "stdout",
     "text": "1\n2\n3\n"
    }
   ],
   "source": [
    "for key,value in d.items():\n",
    "    print(value)"
   ]
  },
  {
   "cell_type": "markdown",
   "metadata": {},
   "source": [
    "## AHORA TOCA PONERSE A MIRAR EL **WHILE** ##"
   ]
  },
  {
   "cell_type": "markdown",
   "metadata": {},
   "source": [
    "El **while** lo que genera es la **ejecución de un bloque de código** \"mientras\" (while) un conjunto de condiciones es **True**.\n",
    "\n",
    "La **sintaxis** es la siguiente:\n",
    "\n",
    "**while** *do_boolean_something*:\n",
    "- **# do something**\n",
    "\n",
    "También se pueden añadir **elses**\n",
    "\n",
    "**while** *do_boolean_something*:\n",
    "- **# do something**\n",
    "- else:\n",
    "- **# do something different**\n"
   ]
  },
  {
   "cell_type": "code",
   "execution_count": 79,
   "metadata": {
    "tags": []
   },
   "outputs": [
    {
     "output_type": "stream",
     "name": "stdout",
     "text": "The current value of x is 0\nThe current value of x is 1\nThe current value of x is 2\nThe current value of x is 3\nThe current value of x is 4\n"
    }
   ],
   "source": [
    "x = 0\n",
    "\n",
    "while x < 5:\n",
    "    print(f\"The current value of x is {x}\")\n",
    "    x = x + 1"
   ]
  },
  {
   "cell_type": "markdown",
   "metadata": {},
   "source": [
    "**NOTA:** Otra opción que hay que tener en cuenta es que se pueden usar **la addición** como *en C*. por tanto **x = x + 1** también se puede escribir como **x += 1**"
   ]
  },
  {
   "cell_type": "code",
   "execution_count": 37,
   "metadata": {
    "tags": []
   },
   "outputs": [
    {
     "output_type": "stream",
     "name": "stdout",
     "text": "The current value of x is 0\nThe current value of x is 1\nThe current value of x is 2\nThe current value of x is 3\nThe current value of x is 4\nThis value is not less than 5\n"
    }
   ],
   "source": [
    "x = 0\n",
    "\n",
    "while x < 5:\n",
    "    print(f\"The current value of x is {x}\")\n",
    "    x += 1\n",
    "else:\n",
    "    print(\"This value is not less than 5\")"
   ]
  },
  {
   "cell_type": "markdown",
   "metadata": {},
   "source": [
    "## NOTA: COMO SE PUEDE CORTAR EL FLUJO DE UN LOOP  \n",
    "**BREAK, CONTINUE, PASS**"
   ]
  },
  {
   "cell_type": "markdown",
   "metadata": {},
   "source": [
    "- **break**: \"Corta\" el loop más cercano donde se encuentra esta sentencia\n",
    "- **continue**: Va hasta el principio del loop más cercano\n",
    "- **pass**: No hace **nada**"
   ]
  },
  {
   "cell_type": "code",
   "execution_count": 38,
   "metadata": {},
   "outputs": [
    {
     "output_type": "error",
     "ename": "SyntaxError",
     "evalue": "unexpected EOF while parsing (<ipython-input-38-f9f8cc271a57>, line 4)",
     "traceback": [
      "\u001b[0;36m  File \u001b[0;32m\"<ipython-input-38-f9f8cc271a57>\"\u001b[0;36m, line \u001b[0;32m4\u001b[0m\n\u001b[0;31m    #comment\u001b[0m\n\u001b[0m            ^\u001b[0m\n\u001b[0;31mSyntaxError\u001b[0m\u001b[0;31m:\u001b[0m unexpected EOF while parsing\n"
     ]
    }
   ],
   "source": [
    "x = [1,2,3]\n",
    "\n",
    "for item in x:\n",
    "    #comment"
   ]
  },
  {
   "cell_type": "markdown",
   "metadata": {},
   "source": [
    "El error que aparece es debido a que tras el comentario no hay una finalización del loop. Para poder evitar este error **se puede usar pass**"
   ]
  },
  {
   "cell_type": "code",
   "execution_count": 39,
   "metadata": {},
   "outputs": [],
   "source": [
    "x = [1,2,3]\n",
    "\n",
    "for item in x:\n",
    "    #comment\n",
    "    pass"
   ]
  },
  {
   "cell_type": "markdown",
   "metadata": {},
   "source": [
    "Como se puede ver, no aparece ningún error al final. **¿Porqué?** **Pues porque se ha PASADO del LOOP**. Esto se puede añadiendo por ejemplo un print, i ver que se imprime."
   ]
  },
  {
   "cell_type": "code",
   "execution_count": 40,
   "metadata": {
    "tags": []
   },
   "outputs": [
    {
     "output_type": "stream",
     "name": "stdout",
     "text": "This it's just a test, to check than the pass it's working\n"
    }
   ],
   "source": [
    "x = [1,2,3]\n",
    "\n",
    "for item in x:\n",
    "    #comment\n",
    "    pass\n",
    "print(\"This it's just a test, to check than the pass it's working\")"
   ]
  },
  {
   "cell_type": "code",
   "execution_count": 41,
   "metadata": {},
   "outputs": [],
   "source": [
    "my_string = \"Sammy\""
   ]
  },
  {
   "cell_type": "code",
   "execution_count": 42,
   "metadata": {
    "tags": []
   },
   "outputs": [
    {
     "output_type": "stream",
     "name": "stdout",
     "text": "a\n"
    }
   ],
   "source": [
    "for letter in my_string:\n",
    "    if letter == \"a\":\n",
    "        print(letter)"
   ]
  },
  {
   "cell_type": "code",
   "execution_count": 43,
   "metadata": {
    "tags": []
   },
   "outputs": [
    {
     "output_type": "stream",
     "name": "stdout",
     "text": "S\nm\nm\ny\n"
    }
   ],
   "source": [
    "for letter in my_string:\n",
    "    if letter == \"a\":\n",
    "        continue\n",
    " \n",
    "    print(letter)"
   ]
  },
  {
   "cell_type": "markdown",
   "metadata": {},
   "source": [
    "Tal y como se puede ver el **continue** lo que hace es que, **continua** volviendo al principio del **loop**. Por tanto, cuando llega al \"a\", continua hasta abajo, print(letter), y posteriormente reinicia el **loop**. Por tanto se reinicia, y en cada vuelta a iniciar el loop, se está escribiendo **print(letter)**.\n",
    "\n",
    "Que pasaría si sólo en vez de un **continue** ponemos un **break**?"
   ]
  },
  {
   "cell_type": "code",
   "execution_count": 44,
   "metadata": {
    "tags": []
   },
   "outputs": [
    {
     "output_type": "stream",
     "name": "stdout",
     "text": "S\n"
    }
   ],
   "source": [
    "for letter in my_string:\n",
    "    if letter == \"a\":\n",
    "        break\n",
    "    print(letter)"
   ]
  },
  {
   "cell_type": "markdown",
   "metadata": {},
   "source": [
    "Sólo se escribe *S* porque en el momento en que se llega a la letra **a**, se ejecuta el **break** y por tanto se **acaba el loop**"
   ]
  },
  {
   "cell_type": "markdown",
   "metadata": {},
   "source": [
    "Esto se puede usar **con cualquier loop**, por ejemplo con un **while**"
   ]
  },
  {
   "cell_type": "code",
   "execution_count": 45,
   "metadata": {
    "tags": []
   },
   "outputs": [
    {
     "output_type": "stream",
     "name": "stdout",
     "text": "0\n1\n"
    }
   ],
   "source": [
    "x = 0\n",
    "\n",
    "while x < 5:\n",
    "    \n",
    "    if x == 2:\n",
    "        break\n",
    "    print(x)\n",
    "    x += 1"
   ]
  },
  {
   "cell_type": "markdown",
   "metadata": {},
   "source": [
    "Aquí lo que se está es **ejecutando el break** una vez se ha llegado a que **x == 2**"
   ]
  },
  {
   "cell_type": "markdown",
   "metadata": {},
   "source": [
    "## USEFUL OPERATORS IN PYTHON ##"
   ]
  },
  {
   "cell_type": "markdown",
   "metadata": {},
   "source": [
    "\n",
    "### RANGE\n",
    "\n",
    "Uno de estos operadores es **RANGE**. Este operador puede crear un RANGO determinado, parecido al que se puede obtener de una lista. Por ejemplo:"
   ]
  },
  {
   "cell_type": "code",
   "execution_count": 46,
   "metadata": {
    "tags": []
   },
   "outputs": [
    {
     "output_type": "stream",
     "name": "stdout",
     "text": "[1, 2, 3]\n"
    }
   ],
   "source": [
    "a_list = [1,2,3]\n",
    "\n",
    "print(a_list)"
   ]
  },
  {
   "cell_type": "code",
   "execution_count": 47,
   "metadata": {
    "tags": []
   },
   "outputs": [
    {
     "output_type": "stream",
     "name": "stdout",
     "text": "0\n1\n2\n3\n4\n5\n6\n7\n8\n9\n"
    }
   ],
   "source": [
    "for num in range(10):\n",
    "    print(num)"
   ]
  },
  {
   "cell_type": "markdown",
   "metadata": {},
   "source": [
    "Con el **operador RANGE** se puede indicar el **inicio,final y el número de \"pasos\" dentro del rango**. Por ejemplo:"
   ]
  },
  {
   "cell_type": "code",
   "execution_count": 48,
   "metadata": {
    "tags": []
   },
   "outputs": [
    {
     "output_type": "stream",
     "name": "stdout",
     "text": "3\n7\n"
    }
   ],
   "source": [
    "for num in range(3,11,4):\n",
    "    print(num)"
   ]
  },
  {
   "cell_type": "code",
   "execution_count": 49,
   "metadata": {
    "tags": []
   },
   "outputs": [
    {
     "output_type": "stream",
     "name": "stdout",
     "text": "0\n2\n4\n6\n8\n10\n12\n14\n"
    }
   ],
   "source": [
    "for num in range(0,16,2):\n",
    "    print(num)"
   ]
  },
  {
   "cell_type": "markdown",
   "metadata": {},
   "source": [
    "Ahora viene la pregunta...**Y COMO LECHES HAGO QUE EL RESULTADO DE UN *RANGE* PASE A SER UNA *LISTA* **"
   ]
  },
  {
   "cell_type": "code",
   "execution_count": 50,
   "metadata": {
    "tags": []
   },
   "outputs": [
    {
     "output_type": "stream",
     "name": "stdout",
     "text": "[1, 2, 3, 4, 5, 6, 7, 8, 9]\n"
    }
   ],
   "source": [
    "#Bastante fácil\n",
    "\n",
    "a_list = list(range(1,10,1))\n",
    "\n",
    "print(a_list)"
   ]
  },
  {
   "cell_type": "markdown",
   "metadata": {},
   "source": [
    "### ENUMERATE\n",
    "\n",
    "Este es otro operador que se puede usar de formas **interesantes**. Veamos un ejemplo:"
   ]
  },
  {
   "cell_type": "code",
   "execution_count": 51,
   "metadata": {
    "tags": []
   },
   "outputs": [
    {
     "output_type": "stream",
     "name": "stdout",
     "text": "At index 0 the letter is a\nAt index 1 the letter is b\nAt index 2 the letter is c\nAt index 3 the letter is d\nAt index 4 the letter is e\n"
    }
   ],
   "source": [
    "index_count = 0 ## Este seria un contador de índice (inicializado a 0)\n",
    "\n",
    "for letter in \"abcde\":\n",
    "    print(f\"At index {index_count} the letter is {letter}\")\n",
    "    #Otra forma sería: print(\"At index {} the letter is {}\"format(index_count,letter))\n",
    "    index_count += 1"
   ]
  },
  {
   "cell_type": "markdown",
   "metadata": {},
   "source": [
    "Otra forma de hacer los **mismo** sería:"
   ]
  },
  {
   "cell_type": "code",
   "execution_count": 52,
   "metadata": {
    "tags": []
   },
   "outputs": [
    {
     "output_type": "stream",
     "name": "stdout",
     "text": "a\nb\nc\nd\ne\n"
    }
   ],
   "source": [
    "index_count = 0\n",
    "word = \"abcde\"\n",
    "\n",
    "for letter in word:\n",
    "    print(word[index_count])\n",
    "    index_count += 1"
   ]
  },
  {
   "cell_type": "markdown",
   "metadata": {},
   "source": [
    "Básicamente se está usando el valor de **index_count** como el *indice* de cada elemento (en este caso letras) de la variable **word**. Para hacer esto, una forma muy **sencilla** es usar **ENUMERATE**"
   ]
  },
  {
   "cell_type": "code",
   "execution_count": 53,
   "metadata": {
    "tags": []
   },
   "outputs": [
    {
     "output_type": "stream",
     "name": "stdout",
     "text": "(0, 'a')\n(1, 'b')\n(2, 'c')\n(3, 'd')\n(4, 'e')\n"
    }
   ],
   "source": [
    "word = \"abcde\"\n",
    "\n",
    "for item in enumerate(word):\n",
    "    print(item)"
   ]
  },
  {
   "cell_type": "markdown",
   "metadata": {},
   "source": [
    "Lo que **se obtiene** tras usar **enumerate** es un conjunto de tuplas, donde se asocia un **índice** a cada uno de **los componentes de la variable word**. Y teniendo en cuenta que las **tuplas** estan **EMPAQUETADAS** se puede hacer también lo siguiente"
   ]
  },
  {
   "cell_type": "code",
   "execution_count": 54,
   "metadata": {
    "tags": []
   },
   "outputs": [
    {
     "output_type": "stream",
     "name": "stdout",
     "text": "0\n1\n2\n3\n4\n"
    }
   ],
   "source": [
    "word = \"abcde\"\n",
    "\n",
    "for index,letter in enumerate(word):\n",
    "    print(index)"
   ]
  },
  {
   "cell_type": "markdown",
   "metadata": {},
   "source": [
    "### ZIP\n",
    "\n",
    "Permite unir 2 listas\n"
   ]
  },
  {
   "cell_type": "code",
   "execution_count": 55,
   "metadata": {
    "tags": []
   },
   "outputs": [
    {
     "output_type": "stream",
     "name": "stdout",
     "text": "(1, 'a')\n(2, 'b')\n(3, 'c')\n"
    }
   ],
   "source": [
    "mylist1 = [1,2,3]\n",
    "mylist2 = [\"a\",\"b\",\"c\"]\n",
    "\n",
    "for item in zip(mylist1,mylist2):\n",
    "    print(item)"
   ]
  },
  {
   "cell_type": "markdown",
   "metadata": {},
   "source": [
    "Como se puede apreciar, **ZIP** lo que permite es unir 2 listas, y al final las imprime como si fueran pares de tuplas. Muy parecido al ejemplo anterior con **ENUMERATE**. Por tanto al trabajar con tuplas, es interesante que se empiece a tener claro el \"desempaquetado de tuplas\"\n",
    "\n",
    "NOTA: ZIP PUEDE UNIR MÁS DE 2 LISTAS. Por ejemplo:"
   ]
  },
  {
   "cell_type": "code",
   "execution_count": 56,
   "metadata": {
    "tags": []
   },
   "outputs": [
    {
     "output_type": "stream",
     "name": "stdout",
     "text": "(1, 'a', 100)\n(2, 'b', 200)\n(3, 'c', 300)\n"
    }
   ],
   "source": [
    "mylist1 = [1,2,3]\n",
    "mylist2 = [\"a\",\"b\",\"c\"]\n",
    "mylist3 = [100,200,300]\n",
    "\n",
    "for item in zip(mylist1,mylist2,mylist3):\n",
    "    print(item)"
   ]
  },
  {
   "cell_type": "markdown",
   "metadata": {},
   "source": [
    "##NOTA: En caso de que alguna de las listas no tenga el mismo número de elementos, sólo se uniran los elementos que tengan el mismo índice. Es decir:\n",
    "\n"
   ]
  },
  {
   "cell_type": "code",
   "execution_count": 57,
   "metadata": {
    "tags": []
   },
   "outputs": [
    {
     "output_type": "stream",
     "name": "stdout",
     "text": "(1, 'a', 100)\n(2, 'b', 200)\n(3, 'c', 300)\n"
    }
   ],
   "source": [
    "mylist1 = [1,2,3,4,5,6,7,8]\n",
    "mylist2 = [\"a\",\"b\",\"c\"]\n",
    "mylist3 = [100,200,300]\n",
    "\n",
    "for item in zip(mylist1,mylist2,mylist3):\n",
    "    print(item)"
   ]
  },
  {
   "cell_type": "markdown",
   "metadata": {},
   "source": [
    "Si se quiere hacer una **lista de tuplas** es sencillo"
   ]
  },
  {
   "cell_type": "code",
   "execution_count": 58,
   "metadata": {},
   "outputs": [
    {
     "output_type": "execute_result",
     "data": {
      "text/plain": "[(1, 'a'), (2, 'b'), (3, 'c')]"
     },
     "metadata": {},
     "execution_count": 58
    }
   ],
   "source": [
    "list(zip(mylist1,mylist2))"
   ]
  },
  {
   "cell_type": "markdown",
   "metadata": {},
   "source": [
    "## IN, MIN, MAX, FROM, INPUT"
   ]
  },
  {
   "cell_type": "markdown",
   "metadata": {},
   "source": [
    "**IN** permite identificar si hay algún elemento dentro de una lista, o comparar 2 elementos. Por ejemplo:"
   ]
  },
  {
   "cell_type": "code",
   "execution_count": 59,
   "metadata": {},
   "outputs": [
    {
     "output_type": "execute_result",
     "data": {
      "text/plain": "[1, 2, 3, 4, 5, 6, 7, 8]"
     },
     "metadata": {},
     "execution_count": 59
    }
   ],
   "source": [
    "mylist1 "
   ]
  },
  {
   "cell_type": "code",
   "execution_count": 60,
   "metadata": {},
   "outputs": [
    {
     "output_type": "execute_result",
     "data": {
      "text/plain": "True"
     },
     "metadata": {},
     "execution_count": 60
    }
   ],
   "source": [
    "5 in mylist1"
   ]
  },
  {
   "cell_type": "code",
   "execution_count": 61,
   "metadata": {},
   "outputs": [
    {
     "output_type": "execute_result",
     "data": {
      "text/plain": "False"
     },
     "metadata": {},
     "execution_count": 61
    }
   ],
   "source": [
    "10 in mylist1"
   ]
  },
  {
   "cell_type": "markdown",
   "metadata": {},
   "source": [
    "El **MIN** y **MAX** permiten conocer el número mínimo y máximo dentro de una lista."
   ]
  },
  {
   "cell_type": "code",
   "execution_count": 62,
   "metadata": {},
   "outputs": [
    {
     "output_type": "execute_result",
     "data": {
      "text/plain": "1"
     },
     "metadata": {},
     "execution_count": 62
    }
   ],
   "source": [
    "min(mylist1)"
   ]
  },
  {
   "cell_type": "code",
   "execution_count": 63,
   "metadata": {},
   "outputs": [
    {
     "output_type": "execute_result",
     "data": {
      "text/plain": "8"
     },
     "metadata": {},
     "execution_count": 63
    }
   ],
   "source": [
    "max(mylist1)"
   ]
  },
  {
   "cell_type": "markdown",
   "metadata": {},
   "source": [
    "**FROM** permite **importar librerias**"
   ]
  },
  {
   "cell_type": "code",
   "execution_count": 64,
   "metadata": {
    "tags": []
   },
   "outputs": [
    {
     "output_type": "stream",
     "name": "stdout",
     "text": "[1, 4, 5, 3, 6, 2]\n"
    }
   ],
   "source": [
    "from random import shuffle\n",
    "\n",
    "mylist1 = [1,2,3,4,5,6]\n",
    "\n",
    "shuffle(mylist1)\n",
    "\n",
    "print(mylist1)"
   ]
  },
  {
   "cell_type": "markdown",
   "metadata": {},
   "source": [
    "**Shuffle** lo que permite es desordenar una lista, en este caso **mylist1**"
   ]
  },
  {
   "cell_type": "markdown",
   "metadata": {},
   "source": [
    "También se puede usar otro tipo de función como **randint** que permite obtener un **entero de forma aleatoria dentro de un rango**"
   ]
  },
  {
   "cell_type": "code",
   "execution_count": 65,
   "metadata": {},
   "outputs": [
    {
     "output_type": "execute_result",
     "data": {
      "text/plain": "146"
     },
     "metadata": {},
     "execution_count": 65
    }
   ],
   "source": [
    "from random import randint\n",
    "\n",
    "randint(0,1000)"
   ]
  },
  {
   "cell_type": "code",
   "execution_count": 66,
   "metadata": {},
   "outputs": [
    {
     "output_type": "execute_result",
     "data": {
      "text/plain": "253"
     },
     "metadata": {},
     "execution_count": 66
    }
   ],
   "source": [
    "randint(0,1000)"
   ]
  },
  {
   "cell_type": "markdown",
   "metadata": {},
   "source": [
    "**INPUT** permite **introducir variables por parte del usuario**"
   ]
  },
  {
   "cell_type": "code",
   "execution_count": 80,
   "metadata": {},
   "outputs": [
    {
     "output_type": "execute_result",
     "data": {
      "text/plain": "''"
     },
     "metadata": {},
     "execution_count": 80
    }
   ],
   "source": [
    "input(\"Which day is today? \")"
   ]
  },
  {
   "cell_type": "markdown",
   "metadata": {},
   "source": [
    "El valor introducido normalmente se guarda como una variable, como por ejemplo:"
   ]
  },
  {
   "cell_type": "code",
   "execution_count": 81,
   "metadata": {},
   "outputs": [],
   "source": [
    "result = input(\"Which day is today? \")"
   ]
  },
  {
   "cell_type": "code",
   "execution_count": 82,
   "metadata": {},
   "outputs": [
    {
     "output_type": "execute_result",
     "data": {
      "text/plain": "'Tuesday'"
     },
     "metadata": {},
     "execution_count": 82
    }
   ],
   "source": [
    "result"
   ]
  },
  {
   "cell_type": "markdown",
   "metadata": {},
   "source": [
    "### NOTA: TODO LO QUE SE INTRODUZCA MEDIANTE INPUT, PYTHON LO DETECTA COMO UN CARACTER, AUNQUE SEA UN NÚMERO!!!"
   ]
  },
  {
   "cell_type": "code",
   "execution_count": 72,
   "metadata": {},
   "outputs": [
    {
     "output_type": "execute_result",
     "data": {
      "text/plain": "str"
     },
     "metadata": {},
     "execution_count": 72
    }
   ],
   "source": [
    "type(result)"
   ]
  },
  {
   "cell_type": "markdown",
   "metadata": {},
   "source": [
    "## PARA CAMBIAR EL TIPO SE PUEDE USAR O **INT** O **FLOAT**. "
   ]
  },
  {
   "cell_type": "code",
   "execution_count": 85,
   "metadata": {},
   "outputs": [
    {
     "output_type": "execute_result",
     "data": {
      "text/plain": "str"
     },
     "metadata": {},
     "execution_count": 85
    }
   ],
   "source": [
    "type(result)"
   ]
  },
  {
   "cell_type": "code",
   "execution_count": 83,
   "metadata": {},
   "outputs": [
    {
     "output_type": "error",
     "ename": "ValueError",
     "evalue": "could not convert string to float: 'Tuesday'",
     "traceback": [
      "\u001b[0;31m---------------------------------------------------------------------------\u001b[0m",
      "\u001b[0;31mValueError\u001b[0m                                Traceback (most recent call last)",
      "\u001b[0;32m<ipython-input-83-0226d969161e>\u001b[0m in \u001b[0;36m<module>\u001b[0;34m\u001b[0m\n\u001b[0;32m----> 1\u001b[0;31m \u001b[0mfloat\u001b[0m\u001b[0;34m(\u001b[0m\u001b[0mresult\u001b[0m\u001b[0;34m)\u001b[0m\u001b[0;34m\u001b[0m\u001b[0;34m\u001b[0m\u001b[0m\n\u001b[0m",
      "\u001b[0;31mValueError\u001b[0m: could not convert string to float: 'Tuesday'"
     ]
    }
   ],
   "source": [
    "float(result)"
   ]
  },
  {
   "cell_type": "code",
   "execution_count": 84,
   "metadata": {},
   "outputs": [
    {
     "output_type": "error",
     "ename": "ValueError",
     "evalue": "invalid literal for int() with base 10: 'Tuesday'",
     "traceback": [
      "\u001b[0;31m---------------------------------------------------------------------------\u001b[0m",
      "\u001b[0;31mValueError\u001b[0m                                Traceback (most recent call last)",
      "\u001b[0;32m<ipython-input-84-baa5c0abe21d>\u001b[0m in \u001b[0;36m<module>\u001b[0;34m\u001b[0m\n\u001b[0;32m----> 1\u001b[0;31m \u001b[0mint\u001b[0m\u001b[0;34m(\u001b[0m\u001b[0mresult\u001b[0m\u001b[0;34m)\u001b[0m\u001b[0;34m\u001b[0m\u001b[0;34m\u001b[0m\u001b[0m\n\u001b[0m",
      "\u001b[0;31mValueError\u001b[0m: invalid literal for int() with base 10: 'Tuesday'"
     ]
    }
   ],
   "source": [
    "int(result)"
   ]
  },
  {
   "cell_type": "markdown",
   "metadata": {},
   "source": [
    "## NOTA: Aunque lo definamos como **float** o **int**, el tipo de **result** seguirá siendo un **string**"
   ]
  },
  {
   "cell_type": "code",
   "execution_count": 76,
   "metadata": {},
   "outputs": [
    {
     "output_type": "execute_result",
     "data": {
      "text/plain": "str"
     },
     "metadata": {},
     "execution_count": 76
    }
   ],
   "source": [
    "type(result)"
   ]
  },
  {
   "cell_type": "markdown",
   "metadata": {},
   "source": [
    "# PARA SOLUCIONAR ESTO HAY QUE DEFINIR EL TIPO ANTES DE ESCRIBIR LA FUNCIÓN **INPUT**. EJEMPLO:"
   ]
  },
  {
   "cell_type": "code",
   "execution_count": 88,
   "metadata": {},
   "outputs": [],
   "source": [
    "result = int(input(\"What's your favorite number? \"))"
   ]
  },
  {
   "cell_type": "code",
   "execution_count": 87,
   "metadata": {},
   "outputs": [
    {
     "output_type": "execute_result",
     "data": {
      "text/plain": "int"
     },
     "metadata": {},
     "execution_count": 87
    }
   ],
   "source": [
    "type(result)"
   ]
  },
  {
   "cell_type": "markdown",
   "metadata": {},
   "source": [
    "## AHORA TOCA HABLAR DE LISTAS DE COMPRENSIÓN...???"
   ]
  },
  {
   "cell_type": "markdown",
   "metadata": {},
   "source": [
    "Son una forma rápida de crear listas de forma rápida en Python, es una forma diferente a tener que crear una lista usando un **loop** con un **método .append()**"
   ]
  },
  {
   "cell_type": "code",
   "execution_count": 90,
   "metadata": {},
   "outputs": [],
   "source": [
    "#Cogemos una cadena de caracteres como \"Hello World\"\n",
    "mystring = \"Hello World\"\n",
    "\n",
    "#Con esa cadena de caracteres queremos crear una lista, una forma sería usar un método .append con un FOR, en una lista vacía. Esa lista vacía la llamaremos my_list\n",
    "\n",
    "mylist = []\n",
    "\n",
    "for letter in mystring:\n",
    "    mylist.append(letter)"
   ]
  },
  {
   "cell_type": "code",
   "execution_count": 92,
   "metadata": {
    "tags": []
   },
   "outputs": [
    {
     "output_type": "stream",
     "name": "stdout",
     "text": "['H', 'e', 'l', 'l', 'o', ' ', 'W', 'o', 'r', 'l', 'd']\n"
    }
   ],
   "source": [
    "print(mylist)"
   ]
  },
  {
   "cell_type": "markdown",
   "metadata": {},
   "source": [
    "Todo lo anterior se puede realizar en **una sola línea**!!!. De la siguiente manera:"
   ]
  },
  {
   "cell_type": "code",
   "execution_count": 93,
   "metadata": {},
   "outputs": [],
   "source": [
    "mylist = [letter for letter in mystring]"
   ]
  },
  {
   "cell_type": "code",
   "execution_count": 94,
   "metadata": {},
   "outputs": [
    {
     "output_type": "execute_result",
     "data": {
      "text/plain": "['H', 'e', 'l', 'l', 'o', ' ', 'W', 'o', 'r', 'l', 'd']"
     },
     "metadata": {},
     "execution_count": 94
    }
   ],
   "source": [
    "mylist"
   ]
  },
  {
   "cell_type": "markdown",
   "metadata": {},
   "source": [
    "## Se ha creado una lista mediante un método CONDENSADO en UNA LÍNEA DE CÓDIGO, teniendo en cuenta que SÓLO se está usando el MÉTODO APPEND. "
   ]
  },
  {
   "cell_type": "markdown",
   "metadata": {},
   "source": [
    "Este método **siempre** usa la misma **estructura**"
   ]
  },
  {
   "cell_type": "code",
   "execution_count": 99,
   "metadata": {},
   "outputs": [],
   "source": [
    "mylist = [x for x in \"whatever\"] # Como se puede ver la variable de salida x es la misma que se usa dentro del loop"
   ]
  },
  {
   "cell_type": "code",
   "execution_count": 100,
   "metadata": {},
   "outputs": [
    {
     "output_type": "execute_result",
     "data": {
      "text/plain": "['w', 'h', 'a', 't', 'e', 'v', 'e', 'r']"
     },
     "metadata": {},
     "execution_count": 100
    }
   ],
   "source": [
    "mylist"
   ]
  },
  {
   "cell_type": "markdown",
   "metadata": {},
   "source": [
    "** Y como todo se puede ir complicando el método si se quiere**"
   ]
  },
  {
   "cell_type": "code",
   "execution_count": 103,
   "metadata": {},
   "outputs": [],
   "source": [
    "mylist = [x for x in range(0,10)] # Se pueden generar rangos "
   ]
  },
  {
   "cell_type": "code",
   "execution_count": 104,
   "metadata": {},
   "outputs": [
    {
     "output_type": "execute_result",
     "data": {
      "text/plain": "[0, 1, 2, 3, 4, 5, 6, 7, 8, 9]"
     },
     "metadata": {},
     "execution_count": 104
    }
   ],
   "source": [
    "mylist"
   ]
  },
  {
   "cell_type": "code",
   "execution_count": 109,
   "metadata": {},
   "outputs": [],
   "source": [
    "mylist = [x**2 for x in range(1,10)] ## Se puede hacer operaciones con la variable de salida."
   ]
  },
  {
   "cell_type": "code",
   "execution_count": 110,
   "metadata": {},
   "outputs": [
    {
     "output_type": "execute_result",
     "data": {
      "text/plain": "[1, 4, 9, 16, 25, 36, 49, 64, 81]"
     },
     "metadata": {},
     "execution_count": 110
    }
   ],
   "source": [
    "mylist"
   ]
  },
  {
   "cell_type": "code",
   "execution_count": 111,
   "metadata": {},
   "outputs": [],
   "source": [
    "mylist = [x for x in range(0,10) if x%2==0] # Se pueden introducir condiciones como if"
   ]
  },
  {
   "cell_type": "code",
   "execution_count": 112,
   "metadata": {},
   "outputs": [
    {
     "output_type": "execute_result",
     "data": {
      "text/plain": "[0, 2, 4, 6, 8]"
     },
     "metadata": {},
     "execution_count": 112
    }
   ],
   "source": [
    "mylist"
   ]
  },
  {
   "cell_type": "markdown",
   "metadata": {},
   "source": [
    "** UN EJEMPLO CHULO SERÍA UNA CONVERSIÓN DE CELSIUS A FAHRENHEIT EN 1 SOLA LÍNEA**"
   ]
  },
  {
   "cell_type": "code",
   "execution_count": 118,
   "metadata": {
    "tags": []
   },
   "outputs": [],
   "source": [
    "celsius = [10, 20, 32, 40]\n",
    "\n",
    "fahrenheit = [(9/5*temp + 32) for temp in celsius]"
   ]
  },
  {
   "cell_type": "code",
   "execution_count": 119,
   "metadata": {},
   "outputs": [
    {
     "output_type": "execute_result",
     "data": {
      "text/plain": "[50.0, 68.0, 89.6, 104.0]"
     },
     "metadata": {},
     "execution_count": 119
    }
   ],
   "source": [
    "fahrenheit"
   ]
  },
  {
   "cell_type": "markdown",
   "metadata": {},
   "source": [
    "## TODO LO ANTERIOR SE PODRÍA HACER CON UN LOOP Y MÁS LÍNEAS DE CÓDIGO"
   ]
  },
  {
   "cell_type": "code",
   "execution_count": 121,
   "metadata": {},
   "outputs": [],
   "source": [
    "celsius = [10,20,32,40]\n",
    "\n",
    "fahrenheit = []\n",
    "\n",
    "for temp in celsius:\n",
    "    fahrenheit.append((9/5)*temp + 32)"
   ]
  },
  {
   "cell_type": "code",
   "execution_count": 122,
   "metadata": {},
   "outputs": [
    {
     "output_type": "execute_result",
     "data": {
      "text/plain": "[50.0, 68.0, 89.6, 104.0]"
     },
     "metadata": {},
     "execution_count": 122
    }
   ],
   "source": [
    "fahrenheit"
   ]
  },
  {
   "cell_type": "markdown",
   "metadata": {},
   "source": [
    "## LAS LISTAS \"DE COMPRENSIÓN\" PUEDEN SER HERRAMIENTAS QUE CREAN CÓDIGO COMPACTO, PERO PUEDEN NO SER PARA NADA \"COMPRENSIBLES\" CUANDO EMPIEZAS A PROGRAMAR"
   ]
  },
  {
   "cell_type": "markdown",
   "metadata": {},
   "source": [
    "** POR EJEMPLO SI EMPEZAMOS A USAR LOOPS ANIDADOS....LA COSA SE PUEDE EMPEZAR A COMPLICAR UN POQUILLO....**"
   ]
  },
  {
   "cell_type": "code",
   "execution_count": 123,
   "metadata": {},
   "outputs": [],
   "source": [
    "mylist = []\n",
    "\n",
    "for x in [2,4,6]:\n",
    "    for y in [100,200,300]:\n",
    "        mylist.append(x*y)"
   ]
  },
  {
   "cell_type": "code",
   "execution_count": 124,
   "metadata": {},
   "outputs": [
    {
     "output_type": "execute_result",
     "data": {
      "text/plain": "[200, 400, 600, 400, 800, 1200, 600, 1200, 1800]"
     },
     "metadata": {},
     "execution_count": 124
    }
   ],
   "source": [
    "mylist"
   ]
  },
  {
   "cell_type": "markdown",
   "metadata": {},
   "source": [
    "## Ahora viene cuando lo matan, VAMOS A PASAR ESTO A LISTA DE COMPRENSIÓN"
   ]
  },
  {
   "cell_type": "code",
   "execution_count": 125,
   "metadata": {},
   "outputs": [],
   "source": [
    "mylist = [ x*y for x in [2,4,6] for y in [100,200,300]]"
   ]
  },
  {
   "cell_type": "code",
   "execution_count": 126,
   "metadata": {},
   "outputs": [
    {
     "output_type": "execute_result",
     "data": {
      "text/plain": "[200, 400, 600, 400, 800, 1200, 600, 1200, 1800]"
     },
     "metadata": {},
     "execution_count": 126
    }
   ],
   "source": [
    "mylist"
   ]
  },
  {
   "cell_type": "markdown",
   "metadata": {},
   "source": [
    "## Aunque el código final da el mismo resultado, no es fácil de poder leer el código de los loops ANIDADOS en 1 sola línea de código."
   ]
  },
  {
   "cell_type": "code",
   "execution_count": null,
   "metadata": {},
   "outputs": [],
   "source": []
  }
 ],
 "metadata": {
  "kernelspec": {
   "display_name": "Python 3",
   "language": "python",
   "name": "python3"
  },
  "language_info": {
   "codemirror_mode": {
    "name": "ipython",
    "version": 3
   },
   "file_extension": ".py",
   "mimetype": "text/x-python",
   "name": "python",
   "nbconvert_exporter": "python",
   "pygments_lexer": "ipython3",
   "version": "3.8.3-final"
  }
 },
 "nbformat": 4,
 "nbformat_minor": 4
}